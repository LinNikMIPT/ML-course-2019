{
 "cells": [
  {
   "cell_type": "markdown",
   "metadata": {},
   "source": [
    "## Прежде, чем приступать к выполнению домашнего задания - вам необходимо скачать Anaconda.\n",
    "\n",
    "**Anaconda** - это платформа для научных исследований, основанная на языке программирования Python\n",
    "* Включает предустановленный **Python 3.7**\n",
    "* **+-150** предустановленных **библиотек**, и более 200-300 готовых к \"легкой\" установке библиотек командой conda install name_lib\n",
    "* Включает в себя **Jupyter Notebook**\n",
    "\n",
    "В **Jupyter notebook** вы можете разрабатывать, документировать и выполнять приложения на языке Python, он состоит из двух компонентов: веб-приложение, запускаемое в браузере, и ноутбуки – файлы, в которых можно работать с исходным кодом программы, запускать его, вводить и выводить данные и т.п.\n",
    "\n",
    "Веб приложение позволяет:\n",
    "\n",
    "* **редактировать Python код** в браузере, с подсветкой синтаксиса, автоотступами и автодополнением;\n",
    "* **запускать код** в браузере;\n",
    "* отображать результаты вычислений с медиа представлением (схемы, графики);\n",
    "* работать с языком разметки LaTeX.\n",
    "* **Ноутбуки** – это файлы, в которых сохраняются исходный код, входные и выходные данные, полученные в рамках сессии. Фактически, он является записью вашей работы, но при этом позволяет заново выполнить код, присутствующий на нем. Ноутбуки можно экспортировать в форматы PDF, HTML.\n",
    "\n",
    "### Скачать платформу Anaconda вы можете с оффициального сайта:\n",
    "\n",
    "https://www.anaconda.com/distribution/\n",
    "- доступна на macOS, Linux, Windows\n",
    "\n"
   ]
  },
  {
   "cell_type": "markdown",
   "metadata": {},
   "source": [
    "# Домашние задание 1. House Pricing.\n",
    "\n",
    "Вам дан датасет с ценами на дома.\n",
    "\n",
    "Ваша задача состоит в следующем:\n",
    "1. Выполнить exhaustive Exploratory Data Analysis (EDA)\n",
    "2. Построить простую линейную модель (регрессию) машинного обучения, используя соотвутствующую процедуру кросс-валидации ( перекрестной проверки). Задача состоит в предсказании **house price**. \n",
    "\n",
    "Полезный гайд по по EDA: https://towardsdatascience.com/hitchhikers-guide-to-exploratory-data-analysis-6e8d896d3f7e\n",
    "\n",
    "В ноутбуке будет гайд по задания. Let's go!\n",
    "\n",
    "### Готовые ноутбуки сохраняйте строго в формате .ipynb, название файла должно иметь вид: Фамилия_имя_номердз.ipynb (например: Dochkina_Victoria_01.ipynb) \n",
    "----"
   ]
  },
  {
   "cell_type": "markdown",
   "metadata": {},
   "source": [
    "Мы будем использовать данные по ценам на дома в King County, Wahington, USA. Датасет находится в открытом доступе на Kaggle, скачайте его по соответствующей ссылке : https://www.kaggle.com/harlfoxem/housesalesprediction\n",
    "\n",
    "или здесь: https://github.com/dbendet/coursera_machine_learning/blob/master/kc_house_data.csv\n",
    "\n",
    "Вам необходимо поместить файл `kc_nouse_data.csv` в ту же директорию в jupyter notebook что и этот ноутбук."
   ]
  },
  {
   "cell_type": "code",
   "execution_count": 2,
   "metadata": {},
   "outputs": [],
   "source": [
    "#загружаем библиотеки\n",
    "import pandas as pd\n",
    "import numpy as np\n",
    "import matplotlib.pyplot as plt\n",
    "%matplotlib inline"
   ]
  },
  {
   "cell_type": "markdown",
   "metadata": {},
   "source": [
    "### 1. Loading data\n",
    "\n",
    "Как в любой задаче Машинного обучения - стоит начать работу с хорошей чашечки чая (ну, или кофе). Следующим шагом загрузите данные: \n",
    "\n",
    "- Загрузите файл `house_data.csv` используя функцию `pd.read_csv()` . Присвойте переменной `data` ваш датасет.\n",
    "- Если при вызове 'data' отображаются не все колонки, это можно пофиксить следующим образом:  задайте `pd.options.display.max_columns` значение 30.\n",
    "- Выведите первые 10 значений в таблице. \n",
    "- Выведите последние 10 значений в таблице. \n",
    "- Выведите названия всех колонок с помощью метода `.columns`\n",
    "- Выведите размер таблицы (количество строк и столбцов)\n",
    "\n",
    "**Hint 1** Every Python has a `head` and a `tail` just as DataFrames do."
   ]
  },
  {
   "cell_type": "code",
   "execution_count": null,
   "metadata": {
    "deletable": false,
    "nbgrader": {
     "cell_type": "code",
     "checksum": "88db00107d9aac9254b76b63bfb2c941",
     "grade": false,
     "grade_id": "cell-01e4893e69a9bef9",
     "locked": false,
     "schema_version": 3,
     "solution": true,
     "task": false
    }
   },
   "outputs": [],
   "source": [
    "# Загрузите файл\n",
    "\n",
    "# your code here"
   ]
  },
  {
   "cell_type": "code",
   "execution_count": null,
   "metadata": {
    "deletable": false,
    "nbgrader": {
     "cell_type": "code",
     "checksum": "77eee1634a76f86a1076e9b47bbcf628",
     "grade": false,
     "grade_id": "cell-f2760c0d90c2cc90",
     "locked": false,
     "schema_version": 3,
     "solution": true,
     "task": false
    }
   },
   "outputs": [],
   "source": [
    "# Выведите первые 10 значений в таблице\n",
    "\n",
    "# your code here"
   ]
  },
  {
   "cell_type": "code",
   "execution_count": null,
   "metadata": {
    "deletable": false,
    "nbgrader": {
     "cell_type": "code",
     "checksum": "50fc2b3f6848fc5cc86e8eeee6d2f474",
     "grade": false,
     "grade_id": "cell-601617e47da1519d",
     "locked": false,
     "schema_version": 3,
     "solution": true,
     "task": false
    }
   },
   "outputs": [],
   "source": [
    "# Выведите последние 10 значений в таблице.\n",
    "\n",
    "# your code here"
   ]
  },
  {
   "cell_type": "code",
   "execution_count": null,
   "metadata": {
    "deletable": false,
    "nbgrader": {
     "cell_type": "code",
     "checksum": "74263dc11180609c027a4663ae6ae05e",
     "grade": false,
     "grade_id": "cell-0c49416155ed904e",
     "locked": false,
     "schema_version": 3,
     "solution": true,
     "task": false
    }
   },
   "outputs": [],
   "source": [
    "# Увеличте максимальное число отображающихся колонок\n",
    "\n",
    "# your code here"
   ]
  },
  {
   "cell_type": "code",
   "execution_count": null,
   "metadata": {
    "deletable": false,
    "nbgrader": {
     "cell_type": "code",
     "checksum": "c8953296804bee248e6e92c6f359c332",
     "grade": false,
     "grade_id": "cell-461cce663bcdd494",
     "locked": false,
     "schema_version": 3,
     "solution": true,
     "task": false
    }
   },
   "outputs": [],
   "source": [
    "# Выведите первые 10 значений в таблице снова\n",
    "\n",
    "# your code here"
   ]
  },
  {
   "cell_type": "code",
   "execution_count": 4,
   "metadata": {
    "deletable": false,
    "nbgrader": {
     "cell_type": "code",
     "checksum": "d896c98f37549dd5794b64a15f83c44b",
     "grade": false,
     "grade_id": "cell-c51106738dcb6fd4",
     "locked": false,
     "schema_version": 3,
     "solution": true,
     "task": false
    }
   },
   "outputs": [],
   "source": [
    "# Это пример строки, которая будет оцениваться. [Graded] - пометка для оцениваемых строк. #Grading - место для оценки\n",
    "# ВАЖНО: не меняйте имя переменной, оно должно остаться таким же как здесь.\n",
    "# [Graded] Создайте переменную содержащую названия всех колонок.\n",
    "data_columns = '...'\n",
    "\n",
    "# your code here"
   ]
  },
  {
   "cell_type": "code",
   "execution_count": null,
   "metadata": {
    "deletable": false,
    "editable": false,
    "nbgrader": {
     "cell_type": "code",
     "checksum": "0c90995b101449b3b40b0b1f81847693",
     "grade": true,
     "grade_id": "cell-2644f8c46ed03fac",
     "locked": true,
     "points": 1,
     "schema_version": 3,
     "solution": false,
     "task": false
    }
   },
   "outputs": [],
   "source": [
    "# Grading"
   ]
  },
  {
   "cell_type": "code",
   "execution_count": 3,
   "metadata": {
    "deletable": false,
    "nbgrader": {
     "cell_type": "code",
     "checksum": "02417ce2c24f22d708554a2846bd4093",
     "grade": false,
     "grade_id": "cell-874b815ccc863cc0",
     "locked": false,
     "schema_version": 3,
     "solution": true,
     "task": false
    }
   },
   "outputs": [],
   "source": [
    "# [Graded] Создайте переменную содержащую размер матрицк (количество строк и столбцов)\n",
    "\n",
    "data_shape = '...'\n",
    "\n",
    "# your code here"
   ]
  },
  {
   "cell_type": "code",
   "execution_count": null,
   "metadata": {
    "deletable": false,
    "editable": false,
    "nbgrader": {
     "cell_type": "code",
     "checksum": "1f997a7b267e0f1846ee0df7a5a7d51c",
     "grade": true,
     "grade_id": "cell-36dad30f82927ff5",
     "locked": true,
     "points": 1,
     "schema_version": 3,
     "solution": false,
     "task": false
    }
   },
   "outputs": [],
   "source": [
    "# Grading"
   ]
  },
  {
   "cell_type": "markdown",
   "metadata": {},
   "source": [
    "### 2. Немного easy Statistics\n",
    "\n",
    "Сделаем некоторые основные вещи:\n",
    "- посчитайте количество не NaN (не пустых) значений в каждой колонке.\n",
    "- Есть какие - либо пропущенные значения в датасете?\n",
    "- Посчитайте количество уникальных значений в каждой колонке.\n",
    "- Посмотрите на ваши фичи(та часть данных, на основе которой модель предсказывает результирующие значение) - они преимущественно численные или качественные(категорийные) ?\n",
    "- Используйте pandas `.describe()` для отображения основной статистики по данным.\n",
    "- Нет ли в данных каких-либо \"странных\" столбцов?"
   ]
  },
  {
   "cell_type": "code",
   "execution_count": 5,
   "metadata": {
    "deletable": false,
    "nbgrader": {
     "cell_type": "code",
     "checksum": "8ab765d0465d75056533a249a2d94104",
     "grade": false,
     "grade_id": "cell-63a2b11bca9b474e",
     "locked": false,
     "schema_version": 3,
     "solution": true,
     "task": false
    }
   },
   "outputs": [],
   "source": [
    "# посчитайте количество не NaN значений в каждой колонке.\n",
    "\n",
    "# your code here"
   ]
  },
  {
   "cell_type": "code",
   "execution_count": null,
   "metadata": {
    "deletable": false,
    "nbgrader": {
     "cell_type": "code",
     "checksum": "7835bce500deab82015d16a62cfcfbec",
     "grade": false,
     "grade_id": "cell-7b2f4c812401feec",
     "locked": false,
     "schema_version": 3,
     "solution": true,
     "task": false
    }
   },
   "outputs": [],
   "source": [
    "# [Graded] Сколько колонок имеют пропущенные значения?\n",
    "\n",
    "n_missing = '...'\n",
    "\n",
    "# your code here"
   ]
  },
  {
   "cell_type": "code",
   "execution_count": null,
   "metadata": {
    "deletable": false,
    "editable": false,
    "nbgrader": {
     "cell_type": "code",
     "checksum": "e51c66dec3d0b84c7002ce09fde32a65",
     "grade": true,
     "grade_id": "cell-e07e3fef9017a5ee",
     "locked": true,
     "points": 1,
     "schema_version": 3,
     "solution": false,
     "task": false
    }
   },
   "outputs": [],
   "source": [
    "# Grading\n"
   ]
  },
  {
   "cell_type": "code",
   "execution_count": 6,
   "metadata": {
    "deletable": false,
    "nbgrader": {
     "cell_type": "code",
     "checksum": "f8814274168cc30e2b792f0250a5b567",
     "grade": false,
     "grade_id": "cell-0174925c57380b90",
     "locked": false,
     "schema_version": 3,
     "solution": true,
     "task": false
    }
   },
   "outputs": [],
   "source": [
    "# Посчитайте количество уникальных значений в каждой колонке.\n",
    "\n",
    "# your code here"
   ]
  },
  {
   "cell_type": "code",
   "execution_count": null,
   "metadata": {
    "deletable": false,
    "nbgrader": {
     "cell_type": "code",
     "checksum": "9ba8f9a6cc6a8ac81897c1fad1b0294d",
     "grade": false,
     "grade_id": "cell-6ad9385669a931bb",
     "locked": false,
     "schema_version": 3,
     "solution": true,
     "task": false
    }
   },
   "outputs": [],
   "source": [
    "# [Graded] Какая колонка (фича) имеет наименьшее количество уникальных значений?\n",
    "\n",
    "n_unique_min = \"...\"\n",
    "\n",
    "# your code here"
   ]
  },
  {
   "cell_type": "code",
   "execution_count": null,
   "metadata": {
    "deletable": false,
    "editable": false,
    "nbgrader": {
     "cell_type": "code",
     "checksum": "f1cc533ca2f39f4562ec73baac455879",
     "grade": true,
     "grade_id": "cell-58f9c3be5927302f",
     "locked": true,
     "points": 1,
     "schema_version": 3,
     "solution": false,
     "task": false
    }
   },
   "outputs": [],
   "source": [
    "# Grading"
   ]
  },
  {
   "cell_type": "code",
   "execution_count": 7,
   "metadata": {
    "deletable": false,
    "nbgrader": {
     "cell_type": "code",
     "checksum": "b311c8af30cb52e5bbd50a896c1b46bc",
     "grade": false,
     "grade_id": "cell-7ff4f6d88f2035e7",
     "locked": false,
     "schema_version": 3,
     "solution": true,
     "task": false
    }
   },
   "outputs": [],
   "source": [
    "# Отобразите основную статистику\n",
    "\n",
    "# your code here"
   ]
  },
  {
   "cell_type": "code",
   "execution_count": null,
   "metadata": {},
   "outputs": [],
   "source": []
  },
  {
   "cell_type": "markdown",
   "metadata": {},
   "source": [
    "### 3. Не очень easy statistics\n",
    "\n",
    "Возможно, вы слышали что **корреляция** в данных влияет каким-то образом на качество предсказания?\n",
    "В любом случае, вам необходимо вывести корреляцию между всеми столбцами:\n",
    "\n",
    "- Создайте таблицу попарных корреляций между столбцами. Сохраните ее в переменную `correlation` \n",
    "- Какова размера таблица? Изменилась ли она? если да, то почему?\n",
    "- Какие фичи имеют наибольшую корреляцию с фичей `price`?\n",
    "\n",
    "**Hint 1** Попробуйте этот метод -  https://pandas.pydata.org/pandas-docs/stable/reference/api/pandas.DataFrame.corr.html\n"
   ]
  },
  {
   "cell_type": "code",
   "execution_count": null,
   "metadata": {
    "deletable": false,
    "nbgrader": {
     "cell_type": "code",
     "checksum": "74b185c5d272c1be6bb6997916da50b3",
     "grade": false,
     "grade_id": "cell-7fd9121a8d9df7df",
     "locked": false,
     "schema_version": 3,
     "solution": true,
     "task": false
    }
   },
   "outputs": [],
   "source": [
    "# Создайте корреляционную матрицу\n",
    "\n",
    "# your code here"
   ]
  },
  {
   "cell_type": "code",
   "execution_count": 15,
   "metadata": {
    "deletable": false,
    "nbgrader": {
     "cell_type": "code",
     "checksum": "073dda122ff16d44f638a4ad8e9f8c49",
     "grade": false,
     "grade_id": "cell-bc12244662d3892d",
     "locked": false,
     "schema_version": 3,
     "solution": true,
     "task": false
    }
   },
   "outputs": [],
   "source": [
    "# [Graded] Какой размер полученной матрицы? Выведите list или tuple содержащую ее размерность (с помощью 'print')\n",
    "\n",
    "correlation_shape = \"...\"\n",
    "\n",
    "# your code here"
   ]
  },
  {
   "cell_type": "code",
   "execution_count": null,
   "metadata": {
    "deletable": false,
    "editable": false,
    "nbgrader": {
     "cell_type": "code",
     "checksum": "65f8dcab6496ab6c217ac2bad7735341",
     "grade": true,
     "grade_id": "cell-8b379ea7f1db82bc",
     "locked": true,
     "points": 1,
     "schema_version": 3,
     "solution": false,
     "task": false
    }
   },
   "outputs": [],
   "source": [
    "# Grading\n"
   ]
  },
  {
   "cell_type": "code",
   "execution_count": 9,
   "metadata": {
    "deletable": false,
    "nbgrader": {
     "cell_type": "code",
     "checksum": "bd4424b79531f634bb7d0dc937f0e480",
     "grade": false,
     "grade_id": "cell-59394f70ad6277ab",
     "locked": false,
     "schema_version": 3,
     "solution": true,
     "task": false
    }
   },
   "outputs": [],
   "source": [
    "# Выведите колонки матрицы корреляций\n",
    "\n",
    "# your code here"
   ]
  },
  {
   "cell_type": "code",
   "execution_count": 10,
   "metadata": {
    "deletable": false,
    "nbgrader": {
     "cell_type": "code",
     "checksum": "0b9aa52379b6273b9a00f2eb2a5bcbaa",
     "grade": false,
     "grade_id": "cell-afe9f914b321bd29",
     "locked": false,
     "schema_version": 3,
     "solution": true,
     "task": false
    }
   },
   "outputs": [],
   "source": [
    "# Выведите колонки первоначальной матриц(из пункта 1). Что потерялось? почему?\n",
    "\n",
    "# your code here"
   ]
  },
  {
   "cell_type": "code",
   "execution_count": null,
   "metadata": {
    "deletable": false,
    "nbgrader": {
     "cell_type": "code",
     "checksum": "c619c83d5c76ab9c5cd36123f7d2a398",
     "grade": false,
     "grade_id": "cell-0792e5dd816bd488",
     "locked": false,
     "schema_version": 3,
     "solution": true,
     "task": false
    }
   },
   "outputs": [],
   "source": [
    "# [Graded] Присвойте переменной название потерянного столбца\n",
    "\n",
    "missing_column = '...'\n",
    "\n",
    "# your code here"
   ]
  },
  {
   "cell_type": "code",
   "execution_count": null,
   "metadata": {
    "deletable": false,
    "editable": false,
    "nbgrader": {
     "cell_type": "code",
     "checksum": "f003838e976d44c16c485f28fabf1c11",
     "grade": true,
     "grade_id": "cell-5d8a63b3c5c87e5b",
     "locked": true,
     "points": 1,
     "schema_version": 3,
     "solution": false,
     "task": false
    }
   },
   "outputs": [],
   "source": [
    "# Grading"
   ]
  },
  {
   "cell_type": "code",
   "execution_count": 11,
   "metadata": {
    "deletable": false,
    "nbgrader": {
     "cell_type": "code",
     "checksum": "e6e4deae70d031d06c9a06a083f8efaf",
     "grade": false,
     "grade_id": "cell-a5c93e17c02f10de",
     "locked": false,
     "schema_version": 3,
     "solution": true,
     "task": false
    }
   },
   "outputs": [],
   "source": [
    "# Выведите таблицу корреляции\n",
    "\n",
    "# your code here"
   ]
  },
  {
   "cell_type": "code",
   "execution_count": 12,
   "metadata": {
    "deletable": false,
    "nbgrader": {
     "cell_type": "code",
     "checksum": "33fe7d74b5efa07f7c0499b7caa7e729",
     "grade": false,
     "grade_id": "cell-4cff081d104c5af0",
     "locked": false,
     "schema_version": 3,
     "solution": true,
     "task": false
    }
   },
   "outputs": [],
   "source": [
    "# [Graded] Присвойте переменной название фичи (название столбца матрицы), имеющей наибольшую корреляцию с 'price'\n",
    "\n",
    "highest_corr = \"...\"\n",
    "\n",
    "# your code here"
   ]
  },
  {
   "cell_type": "code",
   "execution_count": null,
   "metadata": {
    "deletable": false,
    "editable": false,
    "nbgrader": {
     "cell_type": "code",
     "checksum": "75c69f336df81abd9721b78a4388fff9",
     "grade": true,
     "grade_id": "cell-d6c62e87c16bd9e6",
     "locked": true,
     "points": 1,
     "schema_version": 3,
     "solution": false,
     "task": false
    }
   },
   "outputs": [],
   "source": [
    "# Grading"
   ]
  },
  {
   "cell_type": "markdown",
   "metadata": {},
   "source": [
    "### 4. Data cleaning\n",
    "\n",
    "Допустим вы решили удалить столбец `zipcode` и установите столбец id в качестве индекса данных:\n",
    "- Удалите столбец `zipcode`\n",
    "- Установите столбец `id` в качестве индекса\n",
    "\n",
    "ВАЖНО: полученная таблица должна все также содержаться в переменной 'data'\n"
   ]
  },
  {
   "cell_type": "code",
   "execution_count": null,
   "metadata": {
    "deletable": false,
    "nbgrader": {
     "cell_type": "code",
     "checksum": "bdadf4cfa68e7e000f60cbf18f9c576d",
     "grade": false,
     "grade_id": "cell-347ed37ca2d35b7a",
     "locked": false,
     "schema_version": 3,
     "solution": true,
     "task": false
    }
   },
   "outputs": [],
   "source": [
    "# your code here"
   ]
  },
  {
   "cell_type": "code",
   "execution_count": null,
   "metadata": {
    "deletable": false,
    "nbgrader": {
     "cell_type": "code",
     "checksum": "bf70421bce8f3338b78ac8008298b0e2",
     "grade": false,
     "grade_id": "cell-340af00bce98ccd0",
     "locked": false,
     "schema_version": 3,
     "solution": true,
     "task": false
    }
   },
   "outputs": [],
   "source": [
    "# [Graded] Удалите столбец zipcode\n",
    "\n",
    "# your code here"
   ]
  },
  {
   "cell_type": "code",
   "execution_count": 13,
   "metadata": {
    "deletable": false,
    "nbgrader": {
     "cell_type": "code",
     "checksum": "f58ee47f92ccab590314bd16c5c27fcf",
     "grade": false,
     "grade_id": "cell-dcf9f711493bb93f",
     "locked": false,
     "schema_version": 3,
     "solution": true,
     "task": false
    }
   },
   "outputs": [],
   "source": [
    "# [Graded] Установите индекс\n",
    "\n",
    "# your code here"
   ]
  },
  {
   "cell_type": "code",
   "execution_count": 14,
   "metadata": {
    "deletable": false,
    "nbgrader": {
     "cell_type": "code",
     "checksum": "e8955bb827cf5d50b893cb469a0a1d22",
     "grade": false,
     "grade_id": "cell-31bf8fa342bb6b09",
     "locked": false,
     "schema_version": 3,
     "solution": true,
     "task": false
    }
   },
   "outputs": [],
   "source": [
    "# Выведите первые 10 значений в таблице\n",
    "\n",
    "# your code here"
   ]
  },
  {
   "cell_type": "code",
   "execution_count": null,
   "metadata": {
    "deletable": false,
    "editable": false,
    "nbgrader": {
     "cell_type": "code",
     "checksum": "b8e233135eb56e0fc901c000e66ffd57",
     "grade": true,
     "grade_id": "cell-fbffdc2168980e76",
     "locked": true,
     "points": 1,
     "schema_version": 3,
     "solution": false,
     "task": false
    }
   },
   "outputs": [],
   "source": [
    "# Grading"
   ]
  },
  {
   "cell_type": "markdown",
   "metadata": {},
   "source": [
    "### 5. Стандартный date processing\n",
    "\n",
    "Столбец `date` содержит нечитабельный формат, поэтому его необходимо изменить:\n",
    "\n",
    "- Используйте метод `to_datetime()` для конвертации даты в приемлимый формат.\n",
    "- Извлеките `year`, `month`, `day` и `weekday` из полученного столбца. Сохраните их в отдельные столбцы вашего датасета.\n",
    "- Сколько колонок теперь в вашей таблице 'data?\n",
    "- Удалите столбец `date`.\n",
    "\n",
    "\n",
    "**Hint 1** Извлечь `year` из столбца, содержащего дату можно следующим образом:\n",
    "```\n",
    "data.date.dt.year\n",
    "```\n",
    "**Hint 2** Можно добавить новую колонку к вашему DataFrame следующим образом:\n",
    "```\n",
    "data[\"new_column\"] = \n",
    "```\n"
   ]
  },
  {
   "cell_type": "code",
   "execution_count": null,
   "metadata": {
    "deletable": false,
    "nbgrader": {
     "cell_type": "code",
     "checksum": "579deaea226f25446a6b03a178a2c9fc",
     "grade": false,
     "grade_id": "cell-0e6da9293aa17eda",
     "locked": false,
     "schema_version": 3,
     "solution": true,
     "task": false
    }
   },
   "outputs": [],
   "source": [
    "# Сконфертируйте столбец date в формат datetime\n",
    "\n",
    "# your code here"
   ]
  },
  {
   "cell_type": "code",
   "execution_count": null,
   "metadata": {
    "deletable": false,
    "nbgrader": {
     "cell_type": "code",
     "checksum": "917a37d1a3649767e2adadfdec67c49e",
     "grade": false,
     "grade_id": "cell-583a85fa558f588a",
     "locked": false,
     "schema_version": 3,
     "solution": true,
     "task": false
    }
   },
   "outputs": [],
   "source": [
    "# Извлеките и сохраните год\n",
    "\n",
    "# your code here"
   ]
  },
  {
   "cell_type": "code",
   "execution_count": null,
   "metadata": {
    "deletable": false,
    "nbgrader": {
     "cell_type": "code",
     "checksum": "3b574413e4385e8800211014fe1f169b",
     "grade": false,
     "grade_id": "cell-4d9de9a925652a65",
     "locked": false,
     "schema_version": 3,
     "solution": true,
     "task": false
    }
   },
   "outputs": [],
   "source": [
    "# Извлеките и сохраните месяц\n",
    "\n",
    "# your code here"
   ]
  },
  {
   "cell_type": "code",
   "execution_count": null,
   "metadata": {
    "deletable": false,
    "nbgrader": {
     "cell_type": "code",
     "checksum": "d197a0bcc55681fa7d5c704832ffd5a4",
     "grade": false,
     "grade_id": "cell-90015475394176c8",
     "locked": false,
     "schema_version": 3,
     "solution": true,
     "task": false
    }
   },
   "outputs": [],
   "source": [
    "# Извлеките и сохраните день\n",
    "\n",
    "# your code here"
   ]
  },
  {
   "cell_type": "code",
   "execution_count": null,
   "metadata": {
    "deletable": false,
    "nbgrader": {
     "cell_type": "code",
     "checksum": "3fdf10fde8bf7a3fccf96330dea91238",
     "grade": false,
     "grade_id": "cell-1998f1f13ff02869",
     "locked": false,
     "schema_version": 3,
     "solution": true,
     "task": false
    }
   },
   "outputs": [],
   "source": [
    "# Извлеките и сохраните день недели\n",
    "\n",
    "# your code here"
   ]
  },
  {
   "cell_type": "code",
   "execution_count": null,
   "metadata": {
    "deletable": false,
    "nbgrader": {
     "cell_type": "code",
     "checksum": "63f136994eb459e92516d91225256270",
     "grade": false,
     "grade_id": "cell-093476651312568f",
     "locked": false,
     "schema_version": 3,
     "solution": true,
     "task": false
    }
   },
   "outputs": [],
   "source": [
    "# Удалите столбец date\n",
    "\n",
    "# your code here"
   ]
  },
  {
   "cell_type": "code",
   "execution_count": null,
   "metadata": {
    "deletable": false,
    "nbgrader": {
     "cell_type": "code",
     "checksum": "af3115f8a51402db5361353beb242110",
     "grade": false,
     "grade_id": "cell-77cc65e601e5a1c9",
     "locked": false,
     "schema_version": 3,
     "solution": true,
     "task": false
    }
   },
   "outputs": [],
   "source": [
    "# Выведите первые 10 значений в таблице\n",
    "\n",
    "# your code here"
   ]
  },
  {
   "cell_type": "code",
   "execution_count": 16,
   "metadata": {
    "deletable": false,
    "nbgrader": {
     "cell_type": "code",
     "checksum": "5e6797173fdba298e3ace8de50355241",
     "grade": false,
     "grade_id": "cell-90be4c2f28ec7a7c",
     "locked": false,
     "schema_version": 3,
     "solution": true,
     "task": false
    }
   },
   "outputs": [],
   "source": [
    "# [Graded] Какова размерность таблицы после проведенных над ней операций? Выведите list или tuple содержащую ее размерность (с помощью 'print')\n",
    "\n",
    "data_shape = \"...\"\n",
    "\n",
    "# your code here"
   ]
  },
  {
   "cell_type": "code",
   "execution_count": null,
   "metadata": {
    "deletable": false,
    "editable": false,
    "nbgrader": {
     "cell_type": "code",
     "checksum": "ff7715ab12081db525d1f0d8c5cd1790",
     "grade": true,
     "grade_id": "cell-8eb06861b1d2a503",
     "locked": true,
     "points": 1,
     "schema_version": 3,
     "solution": false,
     "task": false
    }
   },
   "outputs": [],
   "source": [
    "# Grading"
   ]
  },
  {
   "cell_type": "markdown",
   "metadata": {},
   "source": [
    "# Ок, хватит заниматься скучными делами - время ПОРИСОВАТЬ! \n",
    "\n",
    "### 6. Plot a histogram.\n",
    "\n",
    "Вы собираетесь предсказать `price` и уже знаете некоторую статистику (min, max, mean, std, 25%, 50%, 75% quantiles), но на счет полного распределения данных?\n",
    "\n",
    "- Начертите гистограмму, используя столбец `price`. Используйте plt.hist()\n",
    "- Что за 3 arrays, которые plt.hist() возвращает?\n",
    "- Сохраните эти arrays в некоторые переменные.\n",
    "- Увеличьте количество bins в гистограмме до 30-50\n",
    "- Является ли гистограмма сдвинутой вправо/влево? о чем это говорит\n",
    "\n",
    "**Hint** вы можете вращать xtick, проверьте:\n",
    "https://matplotlib.org/3.1.1/gallery/ticks_and_spines/ticklabels_rotation.html"
   ]
  },
  {
   "cell_type": "code",
   "execution_count": null,
   "metadata": {
    "deletable": false,
    "nbgrader": {
     "cell_type": "code",
     "checksum": "60c536130d4ffacde634156ab28bde73",
     "grade": false,
     "grade_id": "cell-063cc96d49365f8e",
     "locked": false,
     "schema_version": 3,
     "solution": true,
     "task": false
    }
   },
   "outputs": [],
   "source": [
    "# Используя plt.hist() начертите гистограмму для столбца `price`\n",
    "\n",
    "# your code here"
   ]
  },
  {
   "cell_type": "code",
   "execution_count": null,
   "metadata": {
    "deletable": false,
    "nbgrader": {
     "cell_type": "code",
     "checksum": "41ae71a7cc3825008372e286af426d2d",
     "grade": false,
     "grade_id": "cell-7300ab4aecc3f19f",
     "locked": false,
     "schema_version": 3,
     "solution": true,
     "task": false
    }
   },
   "outputs": [],
   "source": [
    "# Сохраните возвращаемые массивы arrays в некоторые переменные.\n",
    "\n",
    "# your code here"
   ]
  },
  {
   "cell_type": "code",
   "execution_count": null,
   "metadata": {
    "deletable": false,
    "nbgrader": {
     "cell_type": "code",
     "checksum": "2c5c0fb80482cff0992d6502d1686c09",
     "grade": false,
     "grade_id": "cell-4a2d41427e9f9c79",
     "locked": false,
     "schema_version": 3,
     "solution": true,
     "task": false
    }
   },
   "outputs": [],
   "source": [
    "# Увеличьте количество bins, начертите гистограмму снова\n",
    "\n",
    "# your code here"
   ]
  },
  {
   "cell_type": "code",
   "execution_count": 17,
   "metadata": {
    "deletable": false,
    "nbgrader": {
     "cell_type": "code",
     "checksum": "1e1bb9b80fe419f50c7fb782fce9d974",
     "grade": false,
     "grade_id": "cell-89b214d93893e8bf",
     "locked": false,
     "schema_version": 3,
     "solution": true,
     "task": false
    }
   },
   "outputs": [],
   "source": [
    "# Поверните xticks, начертите гистограмму снова\n",
    "\n",
    "# your code here"
   ]
  },
  {
   "cell_type": "markdown",
   "metadata": {},
   "source": [
    "## 7. Теперь было бы неплохо привести график к нормальному виду\n",
    "\n",
    "График плох без:\n",
    "- Подходящего названия\n",
    "- Подписанных х и у\n",
    "\n",
    "Добавьте их.\n",
    "\n",
    "**Hint** \n",
    "\n",
    "```\n",
    "plt.title('Title')\n",
    "```"
   ]
  },
  {
   "cell_type": "code",
   "execution_count": 19,
   "metadata": {
    "deletable": false,
    "nbgrader": {
     "cell_type": "code",
     "checksum": "9fb96887aab1043f9208a6a1553c3082",
     "grade": false,
     "grade_id": "cell-ab6dd1bf31403d85",
     "locked": false,
     "schema_version": 3,
     "solution": true,
     "task": false
    }
   },
   "outputs": [],
   "source": [
    "# Довьте название вашей гистограмме\n",
    "\n",
    "# your code here"
   ]
  },
  {
   "cell_type": "code",
   "execution_count": 18,
   "metadata": {
    "deletable": false,
    "nbgrader": {
     "cell_type": "code",
     "checksum": "2d142f6e45e18665030ea580d5f1da58",
     "grade": false,
     "grade_id": "cell-00400ddaf986f805",
     "locked": false,
     "schema_version": 3,
     "solution": true,
     "task": false
    }
   },
   "outputs": [],
   "source": [
    "# Назовите ось х\n",
    "\n",
    "# your code here"
   ]
  },
  {
   "cell_type": "code",
   "execution_count": 20,
   "metadata": {
    "deletable": false,
    "nbgrader": {
     "cell_type": "code",
     "checksum": "dbcd504a98fad8788881992273370579",
     "grade": false,
     "grade_id": "cell-6d03339da3758104",
     "locked": false,
     "schema_version": 3,
     "solution": true,
     "task": false
    }
   },
   "outputs": [],
   "source": [
    "# Назовите ось у\n",
    "\n",
    "# your code here"
   ]
  },
  {
   "cell_type": "markdown",
   "metadata": {},
   "source": [
    "### 8. Постройте точечный график (scatter plot)\n",
    "\n",
    "Основываясь на корреляционной матрице, можно построить график зависимости price и фичей, наиболее коррелируемых с price.\n",
    "\n",
    "- Выберите одну фичу, наиболе коррелируемую с price.\n",
    "- Постройте scatter plot (`plt.scatter()`) зависимости между price и фичей из предыдущего пункта.\n",
    "- Назовите оси, дайте графику название.\n",
    "\n",
    "**Hint** Возьмите свою таблицу корреляции и отсортируйте строки в столбце `price`"
   ]
  },
  {
   "cell_type": "code",
   "execution_count": null,
   "metadata": {
    "deletable": false,
    "nbgrader": {
     "cell_type": "code",
     "checksum": "1fb5362815aa0eebada3d8392ce9421d",
     "grade": false,
     "grade_id": "cell-a5579737c4a48148",
     "locked": false,
     "schema_version": 3,
     "solution": true,
     "task": false
    }
   },
   "outputs": [],
   "source": [
    "# CВыберите фичу\n",
    "\n",
    "# your code here"
   ]
  },
  {
   "cell_type": "code",
   "execution_count": 21,
   "metadata": {
    "deletable": false,
    "nbgrader": {
     "cell_type": "code",
     "checksum": "6f1a824669850ac22356558965e5c81e",
     "grade": false,
     "grade_id": "cell-dded9735b89c53dc",
     "locked": false,
     "schema_version": 3,
     "solution": true,
     "task": false
    }
   },
   "outputs": [],
   "source": [
    "# Постройте scatter plot\n",
    "\n",
    "# your code here"
   ]
  },
  {
   "cell_type": "markdown",
   "metadata": {},
   "source": [
    "### 9. БОЛЬШЕ data cleaning\n",
    "\n",
    "Исходя из гистограммы и графика распределения, вы решили удалить выбросы в столбце price, для этой цели будет достаточно убрать верхний 1% (выше 99-го квантиля).\n",
    "\n",
    "- вычислить 99-й ценовой квантиль\n",
    "- удалить все наблюдения> = 99-й ценовой квантиль\n",
    "\n",
    "**Hint** вы можете взять подмножество данных, используя boolean mask, например так:\n",
    "\n",
    "```\n",
    "condition = data.col > 5\n",
    "data[condition]\n",
    "```"
   ]
  },
  {
   "cell_type": "code",
   "execution_count": null,
   "metadata": {
    "deletable": false,
    "nbgrader": {
     "cell_type": "code",
     "checksum": "956b57405739bf172b98886e9cc51007",
     "grade": false,
     "grade_id": "cell-8887a675ad65724d",
     "locked": false,
     "schema_version": 3,
     "solution": true,
     "task": false
    }
   },
   "outputs": [],
   "source": [
    "# вычислите 99-й ценовой квантиль\n",
    "\n",
    "# your code here"
   ]
  },
  {
   "cell_type": "code",
   "execution_count": null,
   "metadata": {
    "deletable": false,
    "nbgrader": {
     "cell_type": "code",
     "checksum": "d6de3978f422150fd29a99ef039ad47e",
     "grade": false,
     "grade_id": "cell-8474b9fc5d12c9dd",
     "locked": false,
     "schema_version": 3,
     "solution": true,
     "task": false
    }
   },
   "outputs": [],
   "source": [
    "# Выведите количество строк в таблице\n",
    "\n",
    "# your code here"
   ]
  },
  {
   "cell_type": "code",
   "execution_count": null,
   "metadata": {
    "deletable": false,
    "nbgrader": {
     "cell_type": "code",
     "checksum": "c7a6c7ad79eea4e3226814471b3aa22f",
     "grade": false,
     "grade_id": "cell-ddeccccae7034681",
     "locked": false,
     "schema_version": 3,
     "solution": true,
     "task": false
    }
   },
   "outputs": [],
   "source": [
    "# удалить все наблюдения> = 99-й ценовой квантиль\n",
    "\n",
    "# your code here"
   ]
  },
  {
   "cell_type": "code",
   "execution_count": 22,
   "metadata": {
    "deletable": false,
    "nbgrader": {
     "cell_type": "code",
     "checksum": "ae3c835ea01ea228538693230442dbbc",
     "grade": false,
     "grade_id": "cell-9532169a2699529b",
     "locked": false,
     "schema_version": 3,
     "solution": true,
     "task": false
    }
   },
   "outputs": [],
   "source": [
    "# [Graded] Посчитайте количество строк и столбцов после проведенных операций\n",
    "\n",
    "data_shape = \"...\"\n",
    "\n",
    "# your code here"
   ]
  },
  {
   "cell_type": "code",
   "execution_count": null,
   "metadata": {
    "deletable": false,
    "editable": false,
    "nbgrader": {
     "cell_type": "code",
     "checksum": "6c494999394036c853bcf8dc3d0dd2c9",
     "grade": true,
     "grade_id": "cell-48826d11d1d7744a",
     "locked": true,
     "points": 1,
     "schema_version": 3,
     "solution": false,
     "task": false
    }
   },
   "outputs": [],
   "source": [
    "# Grading"
   ]
  },
  {
   "cell_type": "markdown",
   "metadata": {},
   "source": [
    "### 10. Сделаем наш scatter plot красивеньким\n",
    "\n",
    "Давайте снова построим наш график, но теперь давайте добавим некоторые интересные вещи, начнем с увеличения размера графика:\n",
    "\n",
    "- Увеличьте размер графика (проверьте параметры `plt.figure ()`)\n",
    "- Уменьшить размер отдельной точки графика до 5\n",
    "- Измените цвет точек на красный\n",
    "\n",
    "**Hint 1** Проверьте параметры plt.scatter ()\n",
    "\n",
    "**Hint 2** Вы также можете настроить стиль маркера, например, измените точки на треугольники / квадраты или даже маленькие звезды.\n",
    "\n",
    "\n",
    "**Colors** https://matplotlib.org/2.0.2/api/colors_api.html\n",
    "\n",
    "**Markers** https://matplotlib.org/3.1.1/api/markers_api.html"
   ]
  },
  {
   "cell_type": "code",
   "execution_count": null,
   "metadata": {
    "deletable": false,
    "nbgrader": {
     "cell_type": "code",
     "checksum": "9d44a454cafdd959cbfca9291cb3e0e8",
     "grade": false,
     "grade_id": "cell-4c980c3a8d706220",
     "locked": false,
     "schema_version": 3,
     "solution": true,
     "task": false
    }
   },
   "outputs": [],
   "source": [
    "# Увеличьте figure size\n",
    "\n",
    "# your code here"
   ]
  },
  {
   "cell_type": "code",
   "execution_count": null,
   "metadata": {
    "deletable": false,
    "nbgrader": {
     "cell_type": "code",
     "checksum": "b1c5d3f1c6f4c945160b20010d0e0a04",
     "grade": false,
     "grade_id": "cell-e30563e144066b7a",
     "locked": false,
     "schema_version": 3,
     "solution": true,
     "task": false
    }
   },
   "outputs": [],
   "source": [
    "# Установите marker size = 5\n",
    "\n",
    "# your code here"
   ]
  },
  {
   "cell_type": "code",
   "execution_count": 24,
   "metadata": {
    "deletable": false,
    "nbgrader": {
     "cell_type": "code",
     "checksum": "4f1015bed425ddf5f1d6ae836ea32e20",
     "grade": false,
     "grade_id": "cell-0a6bd93735a122fc",
     "locked": false,
     "schema_version": 3,
     "solution": true,
     "task": false
    }
   },
   "outputs": [],
   "source": [
    "# Измените цвет точек\n",
    "\n",
    "# your code here"
   ]
  },
  {
   "cell_type": "markdown",
   "metadata": {},
   "source": [
    "### 11. Больше о цвете\n",
    "\n",
    "You remebered that there were a `grade` feature also highly correlated with `price`, but unfortunatly \n",
    "qualitative. You have heard somewere that you could set points color using qualitive feature:\n",
    "Вы помните, что фича `grade`, сильно коррелированна с `price`, но, к сожалению, ее значения качественные. Возможно вы где-то слышали, что вы можете установить цвет точек, используя качественную функцию:\n",
    "```\n",
    "color = [1,1,1,0,0,0]\n",
    "x = [0,1,2,3,4,5]\n",
    "y = [0,1,2,3,4,5]\n",
    "plt.scatter(x,y,c=color)\n",
    "```\n",
    "\n",
    "Оригинальный столбец `grade` имеет слишклм большой разброс значений. Создайте новый столбец со следующими значениями:\n",
    "\n",
    "- 1 если grade 1-3\n",
    "- 2 если grade 4-7\n",
    "- 3 если grade 8-10\n",
    "- 4 если grade 11-13\n",
    "\n",
    "и используйте его в качестве цвета для предыдущего графика:\n",
    "\n",
    "- Создайте черновую версию data.grade, добавьте его в качестве нового столбца к вашим данным.\n",
    "- Постройте график с точками, раскрашенными в соответствии с вашим новым столбцом.\n",
    "- Используйте функцию cmap для plt.scatter ()\n",
    "- Объясните, что контролирует опция cmap\n",
    "- уточните полученную картину\n",
    "\n",
    "- Make a rough version of data.grade, add it as a new column to your data\n",
    "- Plot a scatter plot with points colored according to your new column\n",
    "- Use cmap option, of a plt.scatter()\n",
    "- Explain what does cmap option controls\n",
    "\n",
    "**Hint** чекните функции pandas `map` или pandas `apply` \n",
    "\n",
    "**cmaps** https://matplotlib.org/3.1.0/tutorials/colors/colormaps.html"
   ]
  },
  {
   "cell_type": "code",
   "execution_count": null,
   "metadata": {
    "deletable": false,
    "nbgrader": {
     "cell_type": "code",
     "checksum": "57958840c97bd04931d1e4ddbcfbb3b8",
     "grade": false,
     "grade_id": "cell-0da70aa40646f4b2",
     "locked": false,
     "schema_version": 3,
     "solution": true,
     "task": false
    }
   },
   "outputs": [],
   "source": [
    "# [Graded] Создайте черновую версию data.grade, добавьте его в качестве нового столбца к вашим данным.\n",
    "\n",
    "# your code here"
   ]
  },
  {
   "cell_type": "code",
   "execution_count": null,
   "metadata": {
    "deletable": false,
    "nbgrader": {
     "cell_type": "code",
     "checksum": "584a4661c4de2f40404273695bb60454",
     "grade": false,
     "grade_id": "cell-059dfd0694af0032",
     "locked": false,
     "schema_version": 3,
     "solution": true,
     "task": false
    }
   },
   "outputs": [],
   "source": [
    "# Измените цвета точек\n",
    "\n",
    "# your code here"
   ]
  },
  {
   "cell_type": "code",
   "execution_count": 25,
   "metadata": {
    "deletable": false,
    "nbgrader": {
     "cell_type": "code",
     "checksum": "2d201079599e5da5dc5a2c53fd150ae1",
     "grade": false,
     "grade_id": "cell-8b081e83b487dab7",
     "locked": false,
     "schema_version": 3,
     "solution": true,
     "task": false
    }
   },
   "outputs": [],
   "source": [
    "# Замените cmap на Paired\n",
    "\n",
    "# your code here"
   ]
  },
  {
   "cell_type": "code",
   "execution_count": 26,
   "metadata": {
    "deletable": false,
    "editable": false,
    "nbgrader": {
     "cell_type": "code",
     "checksum": "8237ae75c61d95f67cd554cd057a724b",
     "grade": true,
     "grade_id": "cell-1c0006d6085d0767",
     "locked": true,
     "points": 1,
     "schema_version": 3,
     "solution": false,
     "task": false
    }
   },
   "outputs": [],
   "source": [
    "# Grading"
   ]
  },
  {
   "cell_type": "markdown",
   "metadata": {},
   "source": [
    "# Seaborn\n",
    "\n",
    "Seaborn - это обертка  matplotlib, наряду с pandas, она позволяет вам намного легче строить более понятные графики.\n",
    "\n",
    "Но, все таки, это всего лишь обертка, если вам нужна гибкость, вам нужно вернуться к matplotlib.\n",
    "\n",
    "\n",
    "Посмотрите примеры:  https://seaborn.pydata.org/examples/index.html они прекрасны!"
   ]
  },
  {
   "cell_type": "code",
   "execution_count": 27,
   "metadata": {},
   "outputs": [],
   "source": [
    "import seaborn as sns"
   ]
  },
  {
   "cell_type": "markdown",
   "metadata": {},
   "source": [
    "### 12. Box plot\n",
    "\n",
    "Давайте переключимся на что-то другое, колонка bathrooms кажется тоже сильно влияет на цену дома.\n",
    "Мы могли бы построить Box plot цен на каждую уникальную стоимость ванных комнат.\n",
    "\n",
    "А с `seaborn` мы могли бы сделать это в одну строку!\n",
    "\n",
    "- Составьте график цен на каждую уникальную стоимость ванных комнат, используя seaborn.boxplot.\n",
    "- Увеличьте размер графика, чтобы изображение выглядело лучше.\n",
    "\n",
    "\n",
    "**Hint**   документация к boxplots https://seaborn.pydata.org/examples/grouped_boxplot.html"
   ]
  },
  {
   "cell_type": "code",
   "execution_count": null,
   "metadata": {
    "deletable": false,
    "nbgrader": {
     "cell_type": "code",
     "checksum": "989f70110df816cebe7fde02b93e78ca",
     "grade": false,
     "grade_id": "cell-a066d33023c4d657",
     "locked": false,
     "schema_version": 3,
     "solution": true,
     "task": false
    }
   },
   "outputs": [],
   "source": [
    "# Постройте boxplots\n",
    "\n",
    "# your code here"
   ]
  },
  {
   "cell_type": "code",
   "execution_count": 28,
   "metadata": {
    "deletable": false,
    "nbgrader": {
     "cell_type": "code",
     "checksum": "1bfd8e98970b09614317f0feb9b38f64",
     "grade": false,
     "grade_id": "cell-c82d4bb23f6980c1",
     "locked": false,
     "schema_version": 3,
     "solution": true,
     "task": false
    }
   },
   "outputs": [],
   "source": [
    "# Увеличьте размер графика\n",
    "\n",
    "# your code here"
   ]
  },
  {
   "cell_type": "code",
   "execution_count": null,
   "metadata": {},
   "outputs": [],
   "source": []
  },
  {
   "cell_type": "markdown",
   "metadata": {},
   "source": [
    "### 13. Bar chart\n",
    "\n",
    "Waterfront - редкая фича, сильно ли она влияет на цену?\n",
    "\n",
    "Чтобы ответить на этот вопрос, вы решили построить гистограмму цен домов с Waterfront и без него:\n",
    "\n",
    "- Подсчитайте количество домов с набережной\n",
    "- Постройте seaborn categorical plot. Используйте этот пример https://seaborn.pydata.org/examples/grouped_barplot.html в качестве руководства.\n",
    "- Уточните полученную картину.\n",
    "\n"
   ]
  },
  {
   "cell_type": "code",
   "execution_count": null,
   "metadata": {
    "deletable": false,
    "nbgrader": {
     "cell_type": "code",
     "checksum": "219f9a29901a6b297bcd558cf558b03c",
     "grade": false,
     "grade_id": "cell-a1e14ef6e161d234",
     "locked": false,
     "schema_version": 3,
     "solution": true,
     "task": false
    }
   },
   "outputs": [],
   "source": [
    "# Посчитайте количество домов с набережной\n",
    "\n",
    "# your code here"
   ]
  },
  {
   "cell_type": "code",
   "execution_count": 29,
   "metadata": {
    "deletable": false,
    "nbgrader": {
     "cell_type": "code",
     "checksum": "d9781fadba2b1198b746a66849325f7f",
     "grade": false,
     "grade_id": "cell-5f72521223565d7d",
     "locked": false,
     "schema_version": 3,
     "solution": true,
     "task": false
    }
   },
   "outputs": [],
   "source": [
    "# Нарисуйте график\n",
    "\n",
    "# your code here"
   ]
  },
  {
   "cell_type": "code",
   "execution_count": null,
   "metadata": {},
   "outputs": [],
   "source": []
  },
  {
   "cell_type": "markdown",
   "metadata": {},
   "source": [
    "# Say no more, Machine Learning!"
   ]
  },
  {
   "cell_type": "markdown",
   "metadata": {},
   "source": [
    "### 14. Train your first model.\n",
    "\n",
    "Поскольку это регрессионная задача, давайте начнем с основ - **линейной регрессии** :\n",
    "\n",
    "- Создать класс линейной регрессии. Оставьте все параметры по умолчанию.\n",
    "- Установите модель с **training data**.\n",
    "- Предскажите цены на жилье из **test data**.\n",
    "- Спрогнозируйте цены на жилье **train data**.\n",
    "- Посчитать `Mean Squared Error` на **train** и **test data**\n",
    "- Проверьте метрики, которые вычисляют относительную ошибку. Начните с `R2 coefficient` на **train** и **test data.**\n",
    "\n",
    "**Hint 1**  Чекните модуль `sklearn.metrics` ."
   ]
  },
  {
   "cell_type": "code",
   "execution_count": null,
   "metadata": {
    "deletable": false,
    "nbgrader": {
     "cell_type": "code",
     "checksum": "8e9046df2b185c3c1aaadf5353fdc9b7",
     "grade": false,
     "grade_id": "cell-0707abfb40d9efcd",
     "locked": false,
     "schema_version": 3,
     "solution": true,
     "task": false
    }
   },
   "outputs": [],
   "source": [
    "# make all imports\n",
    "\n",
    "# your code here"
   ]
  },
  {
   "cell_type": "code",
   "execution_count": 30,
   "metadata": {
    "deletable": false,
    "nbgrader": {
     "cell_type": "code",
     "checksum": "b5fb869542c6162ae86e6adb83afd7c8",
     "grade": false,
     "grade_id": "cell-0e0e12935226bf0f",
     "locked": false,
     "schema_version": 3,
     "solution": true,
     "task": false
    }
   },
   "outputs": [],
   "source": [
    "# Создайте линейную модель\n",
    "\n",
    "# your code here"
   ]
  },
  {
   "cell_type": "code",
   "execution_count": 34,
   "metadata": {
    "deletable": false,
    "nbgrader": {
     "cell_type": "code",
     "checksum": "61ad0382a22b6f531d308f3121737dda",
     "grade": false,
     "grade_id": "cell-a89863d395b698a0",
     "locked": false,
     "schema_version": 3,
     "solution": true,
     "task": false
    }
   },
   "outputs": [],
   "source": [
    "# Обучите вашу линейную модель\n",
    "\n",
    "# your code here"
   ]
  },
  {
   "cell_type": "code",
   "execution_count": null,
   "metadata": {
    "deletable": false,
    "nbgrader": {
     "cell_type": "code",
     "checksum": "ef46403b0504b629c53a4e5d2880525b",
     "grade": false,
     "grade_id": "cell-aec23667466b62f1",
     "locked": false,
     "schema_version": 3,
     "solution": true,
     "task": false
    }
   },
   "outputs": [],
   "source": [
    "# Сделайте предсказания на train и test data\n",
    "\n",
    "# your code here"
   ]
  },
  {
   "cell_type": "code",
   "execution_count": 2,
   "metadata": {
    "deletable": false,
    "nbgrader": {
     "cell_type": "code",
     "checksum": "e64e364f8a078a9ca82caee7452f8c8c",
     "grade": false,
     "grade_id": "cell-6514eb308983ab55",
     "locked": false,
     "schema_version": 3,
     "solution": true,
     "task": false
    }
   },
   "outputs": [],
   "source": [
    "# [Graded]\n",
    "#Напишите функцию, которая бы принимала на вход модель, данные X и y, а на выходе выдавала Mean Squarred Error (MSE)\n",
    "def report_mse(model, X, y):\n",
    "    \"\"\"\n",
    "    Reports MSE of the model on given data\n",
    "    ---\n",
    "    \n",
    "    Parameters\n",
    "    ---\n",
    "    \n",
    "    model - trained sklearn model\n",
    "    \n",
    "    X - array,\n",
    "     (n_observations, n_features) matrix,\n",
    "     used to predict target\n",
    "    \n",
    "    y - array,\n",
    "     (n_observation, ) array of true target\n",
    "     \n",
    "    Returns\n",
    "    ---\n",
    "    \n",
    "    mse - mean squared error\n",
    "     between true target and predicted target\n",
    "    \"\"\"\n",
    "    \n",
    "    mse = 0\n",
    "    \n",
    "    # your code here\n",
    "    \n",
    "    return mse"
   ]
  },
  {
   "cell_type": "code",
   "execution_count": 32,
   "metadata": {
    "deletable": false,
    "nbgrader": {
     "cell_type": "code",
     "checksum": "f7fa70224046a235cb8fe866389d7127",
     "grade": false,
     "grade_id": "cell-c126aad03f9f5faf",
     "locked": false,
     "schema_version": 3,
     "solution": true,
     "task": false
    }
   },
   "outputs": [],
   "source": [
    "# [Graded] Report MSE score using your function\n",
    "\n",
    "mse_lr_train = '...'\n",
    "mse_lr_test = '...'\n",
    "\n",
    "# your code here"
   ]
  },
  {
   "cell_type": "code",
   "execution_count": null,
   "metadata": {
    "deletable": false,
    "editable": false,
    "nbgrader": {
     "cell_type": "code",
     "checksum": "c8f257232a19603647f1d3acf65a15da",
     "grade": true,
     "grade_id": "cell-ce7f8f37ec9965a1",
     "locked": true,
     "points": 1,
     "schema_version": 3,
     "solution": false,
     "task": false
    }
   },
   "outputs": [],
   "source": [
    "# Grading"
   ]
  },
  {
   "cell_type": "code",
   "execution_count": null,
   "metadata": {
    "deletable": false,
    "nbgrader": {
     "cell_type": "code",
     "checksum": "da8ccef7c32203fe81a4f5bb0eb3311d",
     "grade": false,
     "grade_id": "cell-b99b86698699a63c",
     "locked": false,
     "schema_version": 3,
     "solution": true,
     "task": false
    }
   },
   "outputs": [],
   "source": [
    "# [Graded] Report R2 score\n",
    "\n",
    "r2_score_train = '...'\n",
    "r2_score_test = '...'\n",
    "\n",
    "# your code here"
   ]
  },
  {
   "cell_type": "code",
   "execution_count": null,
   "metadata": {
    "deletable": false,
    "editable": false,
    "nbgrader": {
     "cell_type": "code",
     "checksum": "82e8b17ae10958f9b3f2a098b4e19baf",
     "grade": true,
     "grade_id": "cell-e9a2a577b387a707",
     "locked": true,
     "points": 1,
     "schema_version": 3,
     "solution": false,
     "task": false
    }
   },
   "outputs": [],
   "source": [
    "# Grading"
   ]
  },
  {
   "cell_type": "code",
   "execution_count": null,
   "metadata": {},
   "outputs": [],
   "source": []
  },
  {
   "cell_type": "markdown",
   "metadata": {},
   "source": [
    "### 15.  Другие модели.\n",
    "\n",
    "Линейная модель - не единственная регрессионная модель, вы можете успешно решить регрессионные задачи. Используйте, например, нашего старого друга K ближайших соседей.\n",
    "\n",
    "- Импортируйте KNN.\n",
    "- Обучите на train data. Используйте $ k = 7 $  соседей для вашей модели.\n",
    "- Отчет о работе модели по данным на train и test. Что лучше, почему?\n",
    "- Нужно ли нормализовать данные для модели KNN?\n",
    "\n",
    "**Hint** https://scikit-learn.org/stable/modules/generated/sklearn.neighbors.KNeighborsRegressor.html"
   ]
  },
  {
   "cell_type": "code",
   "execution_count": null,
   "metadata": {
    "deletable": false,
    "nbgrader": {
     "cell_type": "code",
     "checksum": "ef5114f4e80f7f3f64d0e319fa6a2515",
     "grade": false,
     "grade_id": "cell-3e50a645aa17213e",
     "locked": false,
     "schema_version": 3,
     "solution": true,
     "task": false
    }
   },
   "outputs": [],
   "source": [
    "# make imports\n",
    "\n",
    "# your code here"
   ]
  },
  {
   "cell_type": "code",
   "execution_count": 5,
   "metadata": {
    "deletable": false,
    "nbgrader": {
     "cell_type": "code",
     "checksum": "04208cf1e3d59930157a23d9605ae39c",
     "grade": false,
     "grade_id": "cell-c0519f3341409960",
     "locked": false,
     "schema_version": 3,
     "solution": true,
     "task": false
    }
   },
   "outputs": [],
   "source": [
    "# [Graded]\n",
    "# Напишите функцию, которая бы принимала на вход модель, тренировочные и тестовые данные \n",
    "# а на выходе выдавала Mean Squarred Error (MSE) для тренировочных и тестовых данных\n",
    "def evaluate_model(model, X_train, y_train, X_test, y_test, scale=False):\n",
    "    \"\"\"\n",
    "    Trains model on train and reports its perfomance\n",
    "    on train and test data.\n",
    "    ---\n",
    "    \n",
    "    Parameters\n",
    "    ---\n",
    "    \n",
    "    model - sklearn regression model (not trained)\n",
    "    \n",
    "    X_train  - array,\n",
    "     (n_observations_train, n_features) matrix,\n",
    "     train data.\n",
    "     \n",
    "    y_train - array,\n",
    "     (n_observation_train, ) array of train target\n",
    "     \n",
    "    X_test  - array,\n",
    "     (n_observations_test, n_features) matrix,\n",
    "     train data.\n",
    "     \n",
    "    y_test - array,\n",
    "     (n_observation_test, ) array of test target\n",
    "     \n",
    "    scale - bool,\n",
    "     whether to scale the data before training,\n",
    "     default False\n",
    "     \n",
    "    \n",
    "    Returns\n",
    "    ---\n",
    "    \n",
    "    mse_train - float,\n",
    "     mean squared error of the train prediction\n",
    "     \n",
    "    mse_test - float,\n",
    "     mean squared error of the test prediction\n",
    "    \"\"\"\n",
    "    \n",
    "    mse_train = 0\n",
    "    mse_test = 0\n",
    "    \n",
    "    # your code here\n",
    "    \n",
    "    return mse_train, mse_test"
   ]
  },
  {
   "cell_type": "code",
   "execution_count": null,
   "metadata": {
    "deletable": false,
    "editable": false,
    "nbgrader": {
     "cell_type": "code",
     "checksum": "82e8b17ae10958f9b3f2a098b4e19baf",
     "grade": true,
     "grade_id": "cell-e9a2a577b387a707",
     "locked": true,
     "points": 1,
     "schema_version": 3,
     "solution": false,
     "task": false
    }
   },
   "outputs": [],
   "source": [
    "# Grading"
   ]
  },
  {
   "cell_type": "code",
   "execution_count": null,
   "metadata": {
    "deletable": false,
    "nbgrader": {
     "cell_type": "code",
     "checksum": "791df962b7dfa173db7c53569cd2306d",
     "grade": false,
     "grade_id": "cell-5633587f4a2b0ce7",
     "locked": false,
     "schema_version": 3,
     "solution": true,
     "task": false
    }
   },
   "outputs": [],
   "source": [
    "# [Graded]\n",
    "# train the model using your 'evaluate_model' function\n",
    "\n",
    "# your code here"
   ]
  },
  {
   "cell_type": "code",
   "execution_count": 33,
   "metadata": {},
   "outputs": [],
   "source": [
    "# [Graded]\n",
    "# Report KNN using your 'report_mse' function\n",
    "\n",
    "# your code here"
   ]
  },
  {
   "cell_type": "code",
   "execution_count": null,
   "metadata": {
    "deletable": false,
    "editable": false,
    "nbgrader": {
     "cell_type": "code",
     "checksum": "82e8b17ae10958f9b3f2a098b4e19baf",
     "grade": true,
     "grade_id": "cell-e9a2a577b387a707",
     "locked": true,
     "points": 1,
     "schema_version": 3,
     "solution": false,
     "task": false
    }
   },
   "outputs": [],
   "source": [
    "# Grading"
   ]
  },
  {
   "cell_type": "code",
   "execution_count": null,
   "metadata": {},
   "outputs": [],
   "source": []
  },
  {
   "cell_type": "markdown",
   "metadata": {},
   "source": [
    "## Готовые ноутбуки сохраняйте строго в формате .ipynb, \n",
    "**название файла должно иметь вид: Фамилия_имя_номердз.ipynb . Например: Dochkina_Victoria_01.ipynb\n",
    "## Отправляйте ваши ноутбуки в гугл форму: \n",
    "https://docs.google.com/forms/d/e/1FAIpQLScLCJklGGeOqIXo1sTALM75ahqcbM1uGzeC7fY_HVBk5KwjyQ/viewform?usp=sf_link"
   ]
  },
  {
   "cell_type": "code",
   "execution_count": null,
   "metadata": {},
   "outputs": [],
   "source": []
  }
 ],
 "metadata": {
  "celltoolbar": "Edit Metadata",
  "kernelspec": {
   "display_name": "Python 3",
   "language": "python",
   "name": "python3"
  },
  "language_info": {
   "codemirror_mode": {
    "name": "ipython",
    "version": 3
   },
   "file_extension": ".py",
   "mimetype": "text/x-python",
   "name": "python",
   "nbconvert_exporter": "python",
   "pygments_lexer": "ipython3",
   "version": "3.7.4"
  }
 },
 "nbformat": 4,
 "nbformat_minor": 2
}
