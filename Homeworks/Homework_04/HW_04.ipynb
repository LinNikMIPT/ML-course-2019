{
 "cells": [
  {
   "cell_type": "markdown",
   "metadata": {},
   "source": [
    "# Домашнее задание №4\n",
    "\n",
    "Это творческое домашнее задание, в нем не будет ноутбука с инструкцией по выполнению. Ваша задача - обучить одну из встроенных в библиотеки keras или pytorch архитектуру (см. https://keras.io/applications/ и https://pytorch.org/docs/master/torchvision/models ). Вы будете обучать нейронную сеть на тех же данных, которые мы использовали на семинаре. Для обучения используйте Google Colab, как загружать данные на Google Colab см. https://www.youtube.com/watch?v=Ve5oW1qqbZg&t=155s.\n",
    "\n",
    "This is a creative homework, it will not have a notebook with instructions. Your task is to train one of the keras or pytorch  built-in architecture (see https://keras.io/applications/ and https://pytorch.org/docs/master/torchvision/models ). You will train the neural network on the same data that we used at the seminar. Use Google Colab for training. See instructions how to upload data to Google Colab here: https://www.youtube.com/watch?v=Ve5oW1qqbZg&t=155s."
   ]
  },
  {
   "cell_type": "markdown",
   "metadata": {},
   "source": [
    "**Обратите внимание**:\n",
    "- Вы можете использовать любой другой набор данных для решения задачи классификации (например, вы можете обучить сеть отличать ваших друзей, лишь бы у вас хватило их фотографий). Если вы решите использовать свой набор данных, расскажите, откуда вы его взяли.\n",
    "- Вы должны не просто обучить сеть, а получить хорошее (определите сами, что это значит) качество на тесте, а следовательно, вам необходимо построить графики точности и функции потерь, а так же посчитать метрики precision и recall.\n",
    "- Вы можете получить дополнительные баллы (до 5 дополнительных баллов), если возьмете свой набор данных, или реализуете сеть на pytorch, или обучите и сравните несколько архитектур.\n",
    "\n",
    "**Note**:\n",
    "- You can use any other dataset to solve the classification problem (for example, you can train the network to distinguish your friends, if only you have enough of their photos). If you decide to use your dataset, write down where you got it from.\n",
    "- You should not just train the network, but get acceptable (determine for yourself what it means) quality on the test, and therefore, you need to visualize accuracy and loss functions dynamics, and calculate precision and recall metrics.\n",
    "- You can ger some extra points (up to 5 points) for doing one of the following: take your own dataset (not the one we've already used), make you neural network using pytorch, or train and compare several architectures. "
   ]
  },
  {
   "cell_type": "code",
   "execution_count": 1,
   "metadata": {},
   "outputs": [],
   "source": [
    "### ╰( ͡° ͜ʖ ͡° )つ──☆*:・ﾟ"
   ]
  },
  {
   "cell_type": "markdown",
   "metadata": {},
   "source": [
    "## Готовые ноутбуки сохраняйте строго в формате .ipynb, \n",
    "**название файла должно иметь вид: Surname_Name_HWnumber.ipynb . Например: Lindemann_Nikita_04.ipynb\n",
    "\n",
    "## Отправляйте ваши ноутбуки в гугл форму: \n",
    "https://docs.google.com/forms/d/e/1FAIpQLSeGn34zpzH-K8upCW8qOJIW4Enelro3NcGkI1v_5_0JUOExPw/viewform\n",
    "\n",
    "\n",
    "# Спасибо за терпение и выполнение заданий!"
   ]
  }
 ],
 "metadata": {
  "kernelspec": {
   "display_name": "Python 3",
   "language": "python",
   "name": "python3"
  },
  "language_info": {
   "codemirror_mode": {
    "name": "ipython",
    "version": 3
   },
   "file_extension": ".py",
   "mimetype": "text/x-python",
   "name": "python",
   "nbconvert_exporter": "python",
   "pygments_lexer": "ipython3",
   "version": "3.7.2"
  }
 },
 "nbformat": 4,
 "nbformat_minor": 2
}
