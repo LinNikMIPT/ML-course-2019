{
 "cells": [
  {
   "cell_type": "markdown",
   "metadata": {},
   "source": [
    "# Домашнее задание №2"
   ]
  },
  {
   "cell_type": "markdown",
   "metadata": {},
   "source": [
    "### Задча №1\n",
    "Ваша главная задача - обучить один нейрон с сигмоидальной функцией активации (по сути логистическую регрессию) отличать рукописные шестерки и пятерки. В качестве датасета используется 10000 фотографий пятерок и шестерок из набора [MNIST](http://yann.lecun.com/exdb/mnist/). Вам будет необходимо реализовать две одинаковые нейронные сети: одну на Keras, другую - на PyTorch. \n",
    "\n",
    "Но сначала вам необходимо подготовить данные."
   ]
  },
  {
   "cell_type": "code",
   "execution_count": 1,
   "metadata": {},
   "outputs": [],
   "source": [
    "# Импортируем все нужные бибилиотеки\n",
    "\n",
    "import pickle\n",
    "import numpy as np\n",
    "import PIL.Image\n",
    "import itertools\n",
    "from IPython.core.display import Image, display\n",
    "import scipy.ndimage\n",
    "import random\n",
    "import numpy as np\n",
    "import matplotlib.pylab as plt\n",
    "import tqdm\n",
    "import math\n",
    "from sklearn.model_selection import train_test_split\n",
    "from sklearn.metrics import log_loss, accuracy_score\n",
    "%matplotlib inline\n",
    "\n",
    "np.random.seed(42)"
   ]
  },
  {
   "cell_type": "code",
   "execution_count": 2,
   "metadata": {},
   "outputs": [],
   "source": [
    "# Загружаем данные (для этого необходимо поместить файл Data.pickle в ту же деректорию, где лежит этот ноутбук)\n",
    "\n",
    "with open('./Data.pickle', 'rb') as f:\n",
    "    train = pickle.load(f)"
   ]
  },
  {
   "cell_type": "code",
   "execution_count": 3,
   "metadata": {},
   "outputs": [
    {
     "data": {
      "text/plain": [
       "{'data': array([[0, 0, 0, ..., 0, 0, 0],\n",
       "        [0, 0, 0, ..., 0, 0, 0],\n",
       "        [0, 0, 0, ..., 0, 0, 0],\n",
       "        ...,\n",
       "        [0, 0, 0, ..., 0, 0, 0],\n",
       "        [0, 0, 0, ..., 0, 0, 0],\n",
       "        [0, 0, 0, ..., 0, 0, 0]], dtype=uint8),\n",
       " 'labels': array([5., 5., 6., ..., 6., 5., 6.])}"
      ]
     },
     "execution_count": 3,
     "metadata": {},
     "output_type": "execute_result"
    }
   ],
   "source": [
    "# обратите внимание, что train - словарь с данными и ответами\n",
    "\n",
    "train"
   ]
  },
  {
   "cell_type": "code",
   "execution_count": 4,
   "metadata": {},
   "outputs": [
    {
     "data": {
      "text/plain": [
       "array([  0,   0,   0,   0,   0,   0,   0,   0,   0,   0,   0,   0,   0,\n",
       "         0,   0,   0,   0,   0,   0,   0,   0,   0,   0,   0,   0,   0,\n",
       "         0,   0,   0,   0,   0,   0,   0,   0,   0,   0,   0,   0,   0,\n",
       "         0,   0,   0,   0,   0,   0,   0,   0,   0,   0,   0,   0,   0,\n",
       "         0,   0,   0,   0,   0,   0,   0,   0,   0,   0,   0,   0,   0,\n",
       "         0,   0,   0,   0,   0,   0,   0,   0,   0,   0,   0,   0,   0,\n",
       "         0,   0,   0,   0,   0,   0,   0,   0,   0,   0,   0,   0,   0,\n",
       "         0,   0,   0,   0,   0,   0,   0,   0,   0,   0,   0,   0,   0,\n",
       "         0,   0,   0,   0,   0,   0,   0,   0,   0,   0,   0,   0,   0,\n",
       "         0,   0,   0,   0,   0,   0,   0,   0,   0,   0,   0,   0,   0,\n",
       "         0,   0,   0,   0,   0,   0,   0,   0,   0,   0,   0,   0,   0,\n",
       "         0,   0,   0,   0,   0,   0,   0,   0,   0,   0,   0,   0,   0,\n",
       "         0,   0,   0,   0,  45, 102, 150, 255, 198,  24,   0,   0,   0,\n",
       "         0,   0,   0,   0,   0,   0,   0,   0,   0,   0,   0,   0,   0,\n",
       "         0,   0,  15,  63, 132, 205, 244, 254, 254, 254, 231,  32,   0,\n",
       "         0,   0,   0,   0,   0,   0,   0,   0,   0,   0,   0,   0,   0,\n",
       "         0,   7,  31, 149, 219, 254, 254, 254, 254, 245, 167, 150,  26,\n",
       "         0,   0,   0,   0,   0,   0,   0,   0,   0,   0,   0,   0,   0,\n",
       "         0,  60, 169, 229, 254, 254, 254, 254, 254, 191,  85,   6,   0,\n",
       "         0,   0,   0,   0,   0,   0,   0,   0,   0,   0,   0,   0,   0,\n",
       "         0,   0, 123, 246, 254, 254, 254, 254, 236, 147,  64,   4,   0,\n",
       "         0,   0,   0,   0,   0,   0,   0,   0,   0,   0,   0,   0,   0,\n",
       "         0,   0,   0,   1, 176, 254, 238, 241, 254,  77,  30,   0,   0,\n",
       "         0,   0,   0,   0,   0,   0,   0,   0,   0,   0,   0,   0,   0,\n",
       "         0,   0,   0,   0,   0,   7, 225, 236,  30,  25,  75,  11,   0,\n",
       "         0,   0,   0,   0,   0,   0,   0,   0,   0,   0,   0,   0,   0,\n",
       "         0,   0,   0,   0,   0,   0,   0,   0, 148, 254, 124,   0,   0,\n",
       "         0,   0,   0,   0,   0,   0,   0,   0,   0,   0,   0,   0,   0,\n",
       "         0,   0,   0,   0,   0,   0,   0,   0,   0,   0,  68, 252, 244,\n",
       "        82,   0,   0,   0,   0,   0,   0,   0,   0,   0,   0,   0,   0,\n",
       "         0,   0,   0,   0,   0,   0,   0,   0,   0,   0,   0,   0,   0,\n",
       "       165, 254, 232,  42,   0,   0,   0,   0,   0,   0,   0,   0,   0,\n",
       "         0,   0,   0,   0,   0,   0,   0,   0,   0,   0,   0,   0,   0,\n",
       "         0,   0,  36, 242, 254, 198,  24,   0,   0,   0,   0,   0,   0,\n",
       "         0,   0,   0,   0,   0,   0,   0,   0,   0,   0,   0,   0,   0,\n",
       "         0,   0,   0,   0,   0,  37, 228, 254, 139,  10,   0,   0,   0,\n",
       "         0,   0,   0,   0,   0,   0,   0,   0,   0,   0,   0,   0,   0,\n",
       "         0,   0,   0,   0,   0,   0,   0,   0,  19, 240, 254, 108,   4,\n",
       "         0,   0,   0,   0,   0,   0,   0,   0,   0,   0,   0,   0,   0,\n",
       "         0,   0,   0,   0,   0,   0,  59,  54,   0,   0,   0,  19, 229,\n",
       "       254,  95,   0,   0,   0,   0,   0,   0,   0,   0,   0,   0,   0,\n",
       "         0,   0,   0,   0,   0,   0,   0,  88, 250,  91,   0,   0,   0,\n",
       "         0,  77, 254, 147,   0,   0,   0,   0,   0,   0,   0,   0,   0,\n",
       "         0,   0,   0,   0,   0,   0,   0,   0,   0, 132, 254,  85,   0,\n",
       "         0,   0,   5, 116, 254, 188,   0,   0,   0,   0,   0,   0,   0,\n",
       "         0,   0,   0,   0,   0,   0,   0,   0,   0,   0,   0, 132, 254,\n",
       "       116,   0,   0,  29, 192, 254, 254, 157,   0,   0,   0,   0,   0,\n",
       "         0,   0,   0,   0,   0,   0,   0,   0,   0,   0,   0,   0,   0,\n",
       "       132, 254, 223,  81, 193, 248, 254, 247, 128,   4,   0,   0,   0,\n",
       "         0,   0,   0,   0,   0,   0,   0,   0,   0,   0,   0,   0,   0,\n",
       "         0,   0,  83, 237, 254, 254, 254, 202, 131,  82,   0,   0,   0,\n",
       "         0,   0,   0,   0,   0,   0,   0,   0,   0,   0,   0,   0,   0,\n",
       "         0,   0,   0,   0,   0,  66, 159, 229, 118,  20,   0,   0,   0,\n",
       "         0,   0,   0,   0,   0,   0,   0,   0,   0,   0,   0,   0,   0,\n",
       "         0,   0,   0,   0,   0,   0,   0,   0,   0,   0,   0,   0,   0,\n",
       "         0,   0,   0,   0,   0,   0,   0,   0,   0,   0,   0,   0,   0,\n",
       "         0,   0,   0,   0,   0,   0,   0,   0,   0,   0,   0,   0,   0,\n",
       "         0,   0,   0,   0,   0,   0,   0,   0,   0,   0,   0,   0,   0,\n",
       "         0,   0,   0,   0,   0,   0,   0,   0,   0,   0,   0,   0,   0,\n",
       "         0,   0,   0,   0,   0,   0,   0,   0,   0,   0,   0,   0,   0,\n",
       "         0,   0,   0,   0], dtype=uint8)"
      ]
     },
     "execution_count": 4,
     "metadata": {},
     "output_type": "execute_result"
    }
   ],
   "source": [
    "# Вот так выглядит пятерка в массиве\n",
    "\n",
    "train[\"data\"][0]"
   ]
  },
  {
   "cell_type": "code",
   "execution_count": 5,
   "metadata": {
    "scrolled": true
   },
   "outputs": [
    {
     "data": {
      "text/plain": [
       "<matplotlib.image.AxesImage at 0x11bd7033860>"
      ]
     },
     "execution_count": 5,
     "metadata": {},
     "output_type": "execute_result"
    },
    {
     "data": {
      "image/png": "[encoded data removed]",
      "text/plain": [
       "<Figure size 432x288 with 1 Axes>"
      ]
     },
     "metadata": {
      "needs_background": "light"
     },
     "output_type": "display_data"
    }
   ],
   "source": [
    "# Пример, как можно визуализировать данные\n",
    "\n",
    "plt.imshow(train['data'][1].reshape(28,28), cmap = \"gray\")"
   ]
  },
  {
   "cell_type": "code",
   "execution_count": 6,
   "metadata": {},
   "outputs": [],
   "source": [
    "# Выделите в переменную X данные, а в переменную y метки классов\n",
    "\n",
    "X = train['data']\n",
    "y = train['labels']"
   ]
  },
  {
   "cell_type": "code",
   "execution_count": 7,
   "metadata": {},
   "outputs": [],
   "source": [
    "# Переобозначте метки классов: там, где сейчас метка 5, присвойте метку 0, а на место 6 поставте 1\n",
    "\n",
    "y[y==5] = 0\n",
    "y[y==6] = 1"
   ]
  },
  {
   "cell_type": "code",
   "execution_count": 8,
   "metadata": {},
   "outputs": [],
   "source": [
    "# С помощью метода train_test_split отделите треть данных для контроля за переобучением\n",
    "\n",
    "x_train, x_test, y_train, y_test = train_test_split(X,y, test_size = 0.33)"
   ]
  },
  {
   "cell_type": "code",
   "execution_count": 9,
   "metadata": {},
   "outputs": [],
   "source": [
    "# Так как значения яркости пискилей лежат в диопазоне 0-255, то мы можем отнормировать на это значение входные данные,\n",
    "# так нейросети будет проще обучаться\n",
    "\n",
    "x_train = x_train/255\n",
    "x_test = x_test/255"
   ]
  },
  {
   "cell_type": "markdown",
   "metadata": {},
   "source": [
    "### Задача №2\n",
    "Реализуйте две одинаковых нейронных сети с одним нейроном, который будет принимать на вход 784 размерный вектор (вытянутую в вектор картику размера 28x28) и возвращать вероятность того, что на этой фотографии изображена 5. Одну сеть реализуйте на Keras, другую - на Pytorch."
   ]
  },
  {
   "cell_type": "markdown",
   "metadata": {},
   "source": [
    "### Keras"
   ]
  },
  {
   "cell_type": "code",
   "execution_count": 10,
   "metadata": {},
   "outputs": [
    {
     "name": "stderr",
     "output_type": "stream",
     "text": [
      "Using TensorFlow backend.\n"
     ]
    }
   ],
   "source": [
    "from keras.models import Sequential\n",
    "from keras.layers import Dense\n",
    "from keras import models\n",
    "from keras import layers"
   ]
  },
  {
   "cell_type": "code",
   "execution_count": 11,
   "metadata": {},
   "outputs": [
    {
     "name": "stdout",
     "output_type": "stream",
     "text": [
      "WARNING:tensorflow:From c:\\users\\lin\\appdata\\local\\programs\\python\\python37\\lib\\site-packages\\tensorflow\\python\\framework\\op_def_library.py:263: colocate_with (from tensorflow.python.framework.ops) is deprecated and will be removed in a future version.\n",
      "Instructions for updating:\n",
      "Colocations handled automatically by placer.\n"
     ]
    }
   ],
   "source": [
    "# Создайте последовательную модель (см. Sequential) и добавьте к ней один нейрон с сигмоидальной функцией активации, \n",
    "# который принимает на вход вектор размерности 784\n",
    "\n",
    "Keras_model = Sequential()\n",
    "Keras_model.add(Dense(1, activation = \"sigmoid\", input_shape = [784]))"
   ]
  },
  {
   "cell_type": "code",
   "execution_count": 12,
   "metadata": {},
   "outputs": [],
   "source": [
    "# Скомпилируйте построенную модель. В качестве оптимизатора используйте SGD, RMSprop и Adam (необходимо обучить сеть три раза \n",
    "# с разными оптимизаторами, сравнить результаты и сделать выводы). Функция потерь - бинарная кросс-энтропия, а метрика качества - \n",
    "# точность\n",
    "\n",
    "Keras_model.compile(optimizer = \"sgd\", loss = \"binary_crossentropy\", metrics = [\"accuracy\"])"
   ]
  },
  {
   "cell_type": "code",
   "execution_count": 13,
   "metadata": {},
   "outputs": [],
   "source": [
    "# Самостоятельно выберете размер батча при обучении и количество эпох обучения\n",
    "\n",
    "batch_size = 128 \n",
    "epochs = 50"
   ]
  },
  {
   "cell_type": "code",
   "execution_count": 14,
   "metadata": {},
   "outputs": [
    {
     "name": "stderr",
     "output_type": "stream",
     "text": [
      "c:\\users\\lin\\appdata\\local\\programs\\python\\python37\\lib\\site-packages\\ipykernel_launcher.py:4: UserWarning: The `nb_epoch` argument in `fit` has been renamed `epochs`.\n",
      "  after removing the cwd from sys.path.\n"
     ]
    },
    {
     "name": "stdout",
     "output_type": "stream",
     "text": [
      "WARNING:tensorflow:From c:\\users\\lin\\appdata\\local\\programs\\python\\python37\\lib\\site-packages\\tensorflow\\python\\ops\\math_ops.py:3066: to_int32 (from tensorflow.python.ops.math_ops) is deprecated and will be removed in a future version.\n",
      "Instructions for updating:\n",
      "Use tf.cast instead.\n",
      "Train on 6700 samples, validate on 3300 samples\n",
      "Epoch 1/50\n",
      "6700/6700 [==============================] - ETA: 18s - loss: 0.7022 - acc: 0.54 - ETA: 0s - loss: 0.6283 - acc: 0.6664 - ETA: 0s - loss: 0.5837 - acc: 0.737 - ETA: 0s - loss: 0.5395 - acc: 0.789 - 1s 98us/step - loss: 0.5174 - acc: 0.8076 - val_loss: 0.3839 - val_acc: 0.9182\n",
      "Epoch 2/50\n",
      "6700/6700 [==============================] - ETA: 0s - loss: 0.3689 - acc: 0.960 - ETA: 0s - loss: 0.3706 - acc: 0.921 - ETA: 0s - loss: 0.3588 - acc: 0.921 - ETA: 0s - loss: 0.3469 - acc: 0.924 - ETA: 0s - loss: 0.3352 - acc: 0.928 - 0s 40us/step - loss: 0.3341 - acc: 0.9276 - val_loss: 0.2814 - val_acc: 0.9467\n",
      "Epoch 3/50\n",
      "6700/6700 [==============================] - ETA: 0s - loss: 0.2819 - acc: 0.937 - ETA: 0s - loss: 0.2879 - acc: 0.933 - ETA: 0s - loss: 0.2747 - acc: 0.939 - ETA: 0s - loss: 0.2676 - acc: 0.941 - 0s 37us/step - loss: 0.2649 - acc: 0.9421 - val_loss: 0.2319 - val_acc: 0.9539\n",
      "Epoch 4/50\n",
      "6700/6700 [==============================] - ETA: 0s - loss: 0.2223 - acc: 0.960 - ETA: 0s - loss: 0.2419 - acc: 0.946 - ETA: 0s - loss: 0.2298 - acc: 0.948 - 0s 28us/step - loss: 0.2278 - acc: 0.9475 - val_loss: 0.2024 - val_acc: 0.9576\n",
      "Epoch 5/50\n",
      "6700/6700 [==============================] - ETA: 0s - loss: 0.2242 - acc: 0.945 - ETA: 0s - loss: 0.2011 - acc: 0.955 - ETA: 0s - loss: 0.2040 - acc: 0.951 - 0s 30us/step - loss: 0.2042 - acc: 0.9512 - val_loss: 0.1824 - val_acc: 0.9603\n",
      "Epoch 6/50\n",
      "6700/6700 [==============================] - ETA: 0s - loss: 0.2078 - acc: 0.953 - ETA: 0s - loss: 0.1964 - acc: 0.952 - ETA: 0s - loss: 0.1899 - acc: 0.953 - ETA: 0s - loss: 0.1877 - acc: 0.954 - 0s 33us/step - loss: 0.1876 - acc: 0.9543 - val_loss: 0.1680 - val_acc: 0.9621\n",
      "Epoch 7/50\n",
      "6700/6700 [==============================] - ETA: 0s - loss: 0.2005 - acc: 0.921 - ETA: 0s - loss: 0.1833 - acc: 0.952 - ETA: 0s - loss: 0.1777 - acc: 0.953 - 0s 26us/step - loss: 0.1753 - acc: 0.9552 - val_loss: 0.1568 - val_acc: 0.9636\n",
      "Epoch 8/50\n",
      "6700/6700 [==============================] - ETA: 0s - loss: 0.1708 - acc: 0.953 - ETA: 0s - loss: 0.1702 - acc: 0.953 - ETA: 0s - loss: 0.1696 - acc: 0.954 - ETA: 0s - loss: 0.1681 - acc: 0.954 - 0s 36us/step - loss: 0.1656 - acc: 0.9569 - val_loss: 0.1479 - val_acc: 0.9655\n",
      "Epoch 9/50\n",
      "6700/6700 [==============================] - ETA: 0s - loss: 0.1817 - acc: 0.953 - ETA: 0s - loss: 0.1594 - acc: 0.962 - ETA: 0s - loss: 0.1651 - acc: 0.956 - ETA: 0s - loss: 0.1607 - acc: 0.958 - 0s 34us/step - loss: 0.1578 - acc: 0.9588 - val_loss: 0.1407 - val_acc: 0.9676\n",
      "Epoch 10/50\n",
      "6700/6700 [==============================] - ETA: 0s - loss: 0.1633 - acc: 0.960 - ETA: 0s - loss: 0.1632 - acc: 0.953 - ETA: 0s - loss: 0.1530 - acc: 0.958 - 0s 28us/step - loss: 0.1513 - acc: 0.9593 - val_loss: 0.1347 - val_acc: 0.9682\n",
      "Epoch 11/50\n",
      "6700/6700 [==============================] - ETA: 0s - loss: 0.1154 - acc: 0.984 - ETA: 0s - loss: 0.1492 - acc: 0.959 - ETA: 0s - loss: 0.1474 - acc: 0.959 - 0s 27us/step - loss: 0.1458 - acc: 0.9609 - val_loss: 0.1295 - val_acc: 0.9700\n",
      "Epoch 12/50\n",
      "6700/6700 [==============================] - ETA: 0s - loss: 0.1426 - acc: 0.968 - ETA: 0s - loss: 0.1384 - acc: 0.966 - ETA: 0s - loss: 0.1417 - acc: 0.961 - 0s 28us/step - loss: 0.1411 - acc: 0.9618 - val_loss: 0.1251 - val_acc: 0.9703\n",
      "Epoch 13/50\n",
      "6700/6700 [==============================] - ETA: 0s - loss: 0.1499 - acc: 0.945 - ETA: 0s - loss: 0.1396 - acc: 0.964 - ETA: 0s - loss: 0.1371 - acc: 0.964 - ETA: 0s - loss: 0.1370 - acc: 0.962 - 0s 32us/step - loss: 0.1371 - acc: 0.9624 - val_loss: 0.1213 - val_acc: 0.9706\n",
      "Epoch 14/50\n",
      "6700/6700 [==============================] - ETA: 0s - loss: 0.1405 - acc: 0.953 - ETA: 0s - loss: 0.1363 - acc: 0.960 - ETA: 0s - loss: 0.1350 - acc: 0.962 - ETA: 0s - loss: 0.1336 - acc: 0.961 - 0s 31us/step - loss: 0.1335 - acc: 0.9621 - val_loss: 0.1179 - val_acc: 0.9718\n",
      "Epoch 15/50\n",
      "6700/6700 [==============================] - ETA: 0s - loss: 0.1381 - acc: 0.968 - ETA: 0s - loss: 0.1312 - acc: 0.964 - ETA: 0s - loss: 0.1321 - acc: 0.962 - 0s 28us/step - loss: 0.1303 - acc: 0.9622 - val_loss: 0.1149 - val_acc: 0.9715\n",
      "Epoch 16/50\n",
      "6700/6700 [==============================] - ETA: 0s - loss: 0.1483 - acc: 0.960 - ETA: 0s - loss: 0.1338 - acc: 0.962 - ETA: 0s - loss: 0.1282 - acc: 0.965 - 0s 28us/step - loss: 0.1276 - acc: 0.9634 - val_loss: 0.1121 - val_acc: 0.9715\n",
      "Epoch 17/50\n",
      "6700/6700 [==============================] - ETA: 0s - loss: 0.1275 - acc: 0.953 - ETA: 0s - loss: 0.1303 - acc: 0.962 - ETA: 0s - loss: 0.1270 - acc: 0.962 - 0s 27us/step - loss: 0.1250 - acc: 0.9637 - val_loss: 0.1097 - val_acc: 0.9724\n",
      "Epoch 18/50\n",
      "6700/6700 [==============================] - ETA: 0s - loss: 0.1179 - acc: 0.984 - ETA: 0s - loss: 0.1303 - acc: 0.959 - ETA: 0s - loss: 0.1249 - acc: 0.963 - 0s 28us/step - loss: 0.1227 - acc: 0.9637 - val_loss: 0.1075 - val_acc: 0.9730\n",
      "Epoch 19/50\n",
      "6700/6700 [==============================] - ETA: 0s - loss: 0.1211 - acc: 0.960 - ETA: 0s - loss: 0.1202 - acc: 0.963 - ETA: 0s - loss: 0.1201 - acc: 0.965 - 0s 28us/step - loss: 0.1206 - acc: 0.9651 - val_loss: 0.1054 - val_acc: 0.9736\n",
      "Epoch 20/50\n",
      "6700/6700 [==============================] - ETA: 0s - loss: 0.1320 - acc: 0.937 - ETA: 0s - loss: 0.1188 - acc: 0.964 - ETA: 0s - loss: 0.1210 - acc: 0.964 - 0s 27us/step - loss: 0.1186 - acc: 0.9652 - val_loss: 0.1036 - val_acc: 0.9742\n",
      "Epoch 21/50\n",
      "6700/6700 [==============================] - ETA: 0s - loss: 0.1240 - acc: 0.968 - ETA: 0s - loss: 0.1168 - acc: 0.966 - ETA: 0s - loss: 0.1154 - acc: 0.967 - 0s 26us/step - loss: 0.1169 - acc: 0.9664 - val_loss: 0.1019 - val_acc: 0.9742\n",
      "Epoch 22/50\n",
      "6700/6700 [==============================] - ETA: 0s - loss: 0.1911 - acc: 0.937 - ETA: 0s - loss: 0.1158 - acc: 0.969 - ETA: 0s - loss: 0.1179 - acc: 0.966 - 0s 28us/step - loss: 0.1152 - acc: 0.9667 - val_loss: 0.1003 - val_acc: 0.9752\n",
      "Epoch 23/50\n",
      "6700/6700 [==============================] - ETA: 0s - loss: 0.1129 - acc: 0.968 - ETA: 0s - loss: 0.1169 - acc: 0.965 - ETA: 0s - loss: 0.1143 - acc: 0.966 - 0s 27us/step - loss: 0.1137 - acc: 0.9669 - val_loss: 0.0988 - val_acc: 0.9755\n",
      "Epoch 24/50\n",
      "6700/6700 [==============================] - ETA: 0s - loss: 0.0738 - acc: 0.992 - ETA: 0s - loss: 0.0978 - acc: 0.975 - ETA: 0s - loss: 0.1062 - acc: 0.970 - ETA: 0s - loss: 0.1100 - acc: 0.968 - 0s 35us/step - loss: 0.1123 - acc: 0.9673 - val_loss: 0.0975 - val_acc: 0.9761\n",
      "Epoch 25/50\n",
      "6700/6700 [==============================] - ETA: 0s - loss: 0.1584 - acc: 0.960 - ETA: 0s - loss: 0.1106 - acc: 0.963 - ETA: 0s - loss: 0.1116 - acc: 0.965 - ETA: 0s - loss: 0.1107 - acc: 0.967 - 0s 31us/step - loss: 0.1110 - acc: 0.9673 - val_loss: 0.0963 - val_acc: 0.9761\n",
      "Epoch 26/50\n",
      "6700/6700 [==============================] - ETA: 0s - loss: 0.1152 - acc: 0.968 - ETA: 0s - loss: 0.1105 - acc: 0.967 - ETA: 0s - loss: 0.1138 - acc: 0.966 - 0s 27us/step - loss: 0.1098 - acc: 0.9675 - val_loss: 0.0950 - val_acc: 0.9764\n",
      "Epoch 27/50\n",
      "6700/6700 [==============================] - ETA: 0s - loss: 0.0901 - acc: 0.984 - ETA: 0s - loss: 0.1126 - acc: 0.967 - ETA: 0s - loss: 0.1071 - acc: 0.970 - 0s 27us/step - loss: 0.1086 - acc: 0.9681 - val_loss: 0.0939 - val_acc: 0.9767\n",
      "Epoch 28/50\n",
      "6700/6700 [==============================] - ETA: 0s - loss: 0.0890 - acc: 0.976 - ETA: 0s - loss: 0.1090 - acc: 0.966 - ETA: 0s - loss: 0.1081 - acc: 0.967 - ETA: 0s - loss: 0.1086 - acc: 0.967 - 0s 32us/step - loss: 0.1075 - acc: 0.9678 - val_loss: 0.0929 - val_acc: 0.9770\n",
      "Epoch 29/50\n",
      "6700/6700 [==============================] - ETA: 0s - loss: 0.1570 - acc: 0.937 - ETA: 0s - loss: 0.1101 - acc: 0.967 - ETA: 0s - loss: 0.1041 - acc: 0.968 - 0s 23us/step - loss: 0.1065 - acc: 0.9681 - val_loss: 0.0919 - val_acc: 0.9776\n",
      "Epoch 30/50\n"
     ]
    },
    {
     "name": "stdout",
     "output_type": "stream",
     "text": [
      "6700/6700 [==============================] - ETA: 0s - loss: 0.0775 - acc: 0.984 - ETA: 0s - loss: 0.1019 - acc: 0.967 - ETA: 0s - loss: 0.1087 - acc: 0.965 - 0s 27us/step - loss: 0.1055 - acc: 0.9681 - val_loss: 0.0910 - val_acc: 0.9776\n",
      "Epoch 31/50\n",
      "6700/6700 [==============================] - ETA: 0s - loss: 0.0742 - acc: 0.984 - ETA: 0s - loss: 0.1068 - acc: 0.969 - ETA: 0s - loss: 0.1050 - acc: 0.968 - 0s 26us/step - loss: 0.1046 - acc: 0.9685 - val_loss: 0.0901 - val_acc: 0.9776\n",
      "Epoch 32/50\n",
      "6700/6700 [==============================] - ETA: 0s - loss: 0.1100 - acc: 0.953 - ETA: 0s - loss: 0.1004 - acc: 0.971 - ETA: 0s - loss: 0.1034 - acc: 0.969 - ETA: 0s - loss: 0.1036 - acc: 0.968 - 0s 35us/step - loss: 0.1037 - acc: 0.9685 - val_loss: 0.0892 - val_acc: 0.9776\n",
      "Epoch 33/50\n",
      "6700/6700 [==============================] - ETA: 0s - loss: 0.0947 - acc: 0.968 - ETA: 0s - loss: 0.1042 - acc: 0.966 - ETA: 0s - loss: 0.1067 - acc: 0.967 - ETA: 0s - loss: 0.1049 - acc: 0.968 - ETA: 0s - loss: 0.1030 - acc: 0.968 - 0s 41us/step - loss: 0.1029 - acc: 0.9690 - val_loss: 0.0884 - val_acc: 0.9776\n",
      "Epoch 34/50\n",
      "6700/6700 [==============================] - ETA: 0s - loss: 0.0817 - acc: 0.984 - ETA: 0s - loss: 0.0925 - acc: 0.974 - ETA: 0s - loss: 0.1020 - acc: 0.967 - 0s 31us/step - loss: 0.1021 - acc: 0.9691 - val_loss: 0.0876 - val_acc: 0.9776\n",
      "Epoch 35/50\n",
      "6700/6700 [==============================] - ETA: 0s - loss: 0.1077 - acc: 0.968 - ETA: 0s - loss: 0.1007 - acc: 0.968 - ETA: 0s - loss: 0.1013 - acc: 0.969 - ETA: 0s - loss: 0.1015 - acc: 0.968 - ETA: 0s - loss: 0.1017 - acc: 0.968 - 0s 39us/step - loss: 0.1014 - acc: 0.9691 - val_loss: 0.0869 - val_acc: 0.9782\n",
      "Epoch 36/50\n",
      "6700/6700 [==============================] - ETA: 0s - loss: 0.0980 - acc: 0.968 - ETA: 0s - loss: 0.0948 - acc: 0.969 - ETA: 0s - loss: 0.1005 - acc: 0.969 - 0s 29us/step - loss: 0.1007 - acc: 0.9694 - val_loss: 0.0862 - val_acc: 0.9776\n",
      "Epoch 37/50\n",
      "6700/6700 [==============================] - ETA: 0s - loss: 0.0958 - acc: 0.960 - ETA: 0s - loss: 0.0974 - acc: 0.969 - ETA: 0s - loss: 0.0944 - acc: 0.970 - ETA: 0s - loss: 0.0949 - acc: 0.970 - ETA: 0s - loss: 0.0993 - acc: 0.969 - 0s 44us/step - loss: 0.1000 - acc: 0.9693 - val_loss: 0.0856 - val_acc: 0.9776\n",
      "Epoch 38/50\n",
      "6700/6700 [==============================] - ETA: 0s - loss: 0.0764 - acc: 0.984 - ETA: 0s - loss: 0.0997 - acc: 0.970 - ETA: 0s - loss: 0.0997 - acc: 0.968 - 0s 28us/step - loss: 0.0993 - acc: 0.9696 - val_loss: 0.0849 - val_acc: 0.9776\n",
      "Epoch 39/50\n",
      "6700/6700 [==============================] - ETA: 0s - loss: 0.0678 - acc: 0.976 - ETA: 0s - loss: 0.0989 - acc: 0.967 - ETA: 0s - loss: 0.1013 - acc: 0.967 - 0s 32us/step - loss: 0.0987 - acc: 0.9696 - val_loss: 0.0843 - val_acc: 0.9776\n",
      "Epoch 40/50\n",
      "6700/6700 [==============================] - ETA: 0s - loss: 0.0877 - acc: 0.968 - ETA: 0s - loss: 0.1037 - acc: 0.966 - ETA: 0s - loss: 0.1008 - acc: 0.968 - ETA: 0s - loss: 0.0991 - acc: 0.969 - 0s 36us/step - loss: 0.0981 - acc: 0.9696 - val_loss: 0.0837 - val_acc: 0.9773\n",
      "Epoch 41/50\n",
      "6700/6700 [==============================] - ETA: 0s - loss: 0.1150 - acc: 0.968 - ETA: 0s - loss: 0.0942 - acc: 0.973 - ETA: 0s - loss: 0.0937 - acc: 0.973 - ETA: 0s - loss: 0.0995 - acc: 0.968 - 0s 35us/step - loss: 0.0975 - acc: 0.9699 - val_loss: 0.0832 - val_acc: 0.9779\n",
      "Epoch 42/50\n",
      "6700/6700 [==============================] - ETA: 0s - loss: 0.0744 - acc: 0.976 - ETA: 0s - loss: 0.0939 - acc: 0.971 - ETA: 0s - loss: 0.0913 - acc: 0.971 - 0s 29us/step - loss: 0.0970 - acc: 0.9697 - val_loss: 0.0827 - val_acc: 0.9776\n",
      "Epoch 43/50\n",
      "6700/6700 [==============================] - ETA: 0s - loss: 0.0607 - acc: 1.000 - ETA: 0s - loss: 0.0995 - acc: 0.970 - ETA: 0s - loss: 0.0950 - acc: 0.971 - 0s 27us/step - loss: 0.0964 - acc: 0.9697 - val_loss: 0.0821 - val_acc: 0.9776\n",
      "Epoch 44/50\n",
      "6700/6700 [==============================] - ETA: 0s - loss: 0.0634 - acc: 0.992 - ETA: 0s - loss: 0.0969 - acc: 0.968 - ETA: 0s - loss: 0.0941 - acc: 0.969 - 0s 27us/step - loss: 0.0959 - acc: 0.9699 - val_loss: 0.0816 - val_acc: 0.9779\n",
      "Epoch 45/50\n",
      "6700/6700 [==============================] - ETA: 0s - loss: 0.0900 - acc: 0.968 - ETA: 0s - loss: 0.0906 - acc: 0.971 - ETA: 0s - loss: 0.0956 - acc: 0.969 - ETA: 0s - loss: 0.0967 - acc: 0.969 - 0s 34us/step - loss: 0.0954 - acc: 0.9700 - val_loss: 0.0812 - val_acc: 0.9782\n",
      "Epoch 46/50\n",
      "6700/6700 [==============================] - ETA: 0s - loss: 0.0864 - acc: 0.976 - ETA: 0s - loss: 0.0908 - acc: 0.970 - ETA: 0s - loss: 0.0937 - acc: 0.971 - 0s 24us/step - loss: 0.0949 - acc: 0.9700 - val_loss: 0.0807 - val_acc: 0.9782\n",
      "Epoch 47/50\n",
      "6700/6700 [==============================] - ETA: 0s - loss: 0.0714 - acc: 0.984 - ETA: 0s - loss: 0.0936 - acc: 0.969 - ETA: 0s - loss: 0.0923 - acc: 0.970 - 0s 28us/step - loss: 0.0944 - acc: 0.9699 - val_loss: 0.0803 - val_acc: 0.9782\n",
      "Epoch 48/50\n",
      "6700/6700 [==============================] - ETA: 0s - loss: 0.0628 - acc: 0.984 - ETA: 0s - loss: 0.0937 - acc: 0.975 - ETA: 0s - loss: 0.0943 - acc: 0.971 - 0s 26us/step - loss: 0.0940 - acc: 0.9704 - val_loss: 0.0798 - val_acc: 0.9782\n",
      "Epoch 49/50\n",
      "6700/6700 [==============================] - ETA: 0s - loss: 0.1063 - acc: 0.968 - ETA: 0s - loss: 0.0948 - acc: 0.971 - ETA: 0s - loss: 0.0964 - acc: 0.968 - 0s 27us/step - loss: 0.0936 - acc: 0.9701 - val_loss: 0.0794 - val_acc: 0.9785\n",
      "Epoch 50/50\n",
      "6700/6700 [==============================] - ETA: 0s - loss: 0.0900 - acc: 0.976 - ETA: 0s - loss: 0.0987 - acc: 0.968 - ETA: 0s - loss: 0.0962 - acc: 0.969 - 0s 27us/step - loss: 0.0931 - acc: 0.9703 - val_loss: 0.0790 - val_acc: 0.9785\n",
      "Wall time: 12 s\n"
     ]
    }
   ],
   "source": [
    "%%time\n",
    "\n",
    "# Обучите нейронныую сеть, используя метод fit, замерьте время обучения.\n",
    "\n",
    "history = Keras_model.fit(x_train, y_train, batch_size = batch_size, nb_epoch = epochs, verbose = 1, validation_data = (x_test, y_test)) \n",
    "score = Keras_model.evaluate(x_test, y_test, verbose = 0)"
   ]
  },
  {
   "cell_type": "code",
   "execution_count": 15,
   "metadata": {},
   "outputs": [
    {
     "name": "stdout",
     "output_type": "stream",
     "text": [
      "Test loss: 0.07901459779703256\n",
      "Test accuracy: 0.9784848484848485\n"
     ]
    }
   ],
   "source": [
    "# Исользуя score, распечатайте итоговые значения функции потерь и точности \n",
    "\n",
    "print('Test loss:', score[0]) \n",
    "print('Test accuracy:', score[1])"
   ]
  },
  {
   "cell_type": "code",
   "execution_count": 16,
   "metadata": {},
   "outputs": [],
   "source": [
    "H = history\n",
    "N = np.arange(0, epochs)"
   ]
  },
  {
   "cell_type": "markdown",
   "metadata": {},
   "source": [
    "В переменных H.history[\"loss\"] и H.history[\"val_loss\"] хранятся значения функции потерь на всех эпохах на тренировочном и теством наборах данных соответственно. Аналогичные значения, но для точности хранятся в H.history[\"acc\"] и H.history[\"val_acc\"]."
   ]
  },
  {
   "cell_type": "code",
   "execution_count": 17,
   "metadata": {},
   "outputs": [
    {
     "data": {
      "text/plain": [
       "<matplotlib.legend.Legend at 0x11be44cf978>"
      ]
     },
     "execution_count": 17,
     "metadata": {},
     "output_type": "execute_result"
    },
    {
     "data": {
      "image/png": "[encoded data removed]",
      "text/plain": [
       "<Figure size 432x288 with 1 Axes>"
      ]
     },
     "metadata": {
      "needs_background": "light"
     },
     "output_type": "display_data"
    }
   ],
   "source": [
    "# Отрисуйте графики функиции потерь на тестовом наборе и на тренировочном\n",
    "\n",
    "plt.plot(N, H.history[\"loss\"], label = \"Train_loss\")\n",
    "plt.plot(N, H.history[\"val_loss\"], label = \"Val_loss\")\n",
    "plt.xlabel(\"Epochs\")\n",
    "plt.ylabel(\"Loss\")\n",
    "plt.legend()"
   ]
  },
  {
   "cell_type": "code",
   "execution_count": 18,
   "metadata": {},
   "outputs": [
    {
     "data": {
      "text/plain": [
       "<matplotlib.legend.Legend at 0x11be450d2e8>"
      ]
     },
     "execution_count": 18,
     "metadata": {},
     "output_type": "execute_result"
    },
    {
     "data": {
      "image/png": "[encoded data removed]",
      "text/plain": [
       "<Figure size 432x288 with 1 Axes>"
      ]
     },
     "metadata": {
      "needs_background": "light"
     },
     "output_type": "display_data"
    }
   ],
   "source": [
    "# Отрисуйте графики точности на тестовом наборе и на тренировочном\n",
    "\n",
    "plt.plot(N, H.history[\"acc\"], label = \"Train_acc\")\n",
    "plt.plot(N, H.history[\"val_acc\"], label = \"Val_acc\")\n",
    "plt.xlabel(\"Epochs\")\n",
    "plt.ylabel(\"Loss\")\n",
    "plt.legend()"
   ]
  },
  {
   "cell_type": "markdown",
   "metadata": {},
   "source": [
    "Выводы по результатам работы разных оптимизаторов:\n"
   ]
  },
  {
   "cell_type": "markdown",
   "metadata": {},
   "source": [
    "### Pytorch"
   ]
  },
  {
   "cell_type": "code",
   "execution_count": 19,
   "metadata": {},
   "outputs": [],
   "source": [
    "import numpy as np\n",
    "import matplotlib.pyplot as plt\n",
    "import torch\n",
    "from torchvision import transforms, utils\n",
    "from torch.nn import Sequential, Linear, Sigmoid\n",
    "from torch.nn.functional import binary_cross_entropy\n",
    "%matplotlib inline"
   ]
  },
  {
   "cell_type": "code",
   "execution_count": 20,
   "metadata": {},
   "outputs": [],
   "source": [
    "# Создайте класс вашей сети (не забудьтье относледовать его от класса torch.nn.Module!)\n",
    "\n",
    "class My_Net(torch.nn.Module):\n",
    "    def __init__(self):\n",
    "        super(My_Net, self).__init__()\n",
    "        self.fc1 = torch.nn.Linear(784, 1)\n",
    "        self.act1 = torch.nn.Sigmoid()\n",
    "\n",
    "    def forward(self, x):\n",
    "        x = self.fc1(x)\n",
    "        x = self.act1(x)\n",
    "        return x"
   ]
  },
  {
   "cell_type": "code",
   "execution_count": 21,
   "metadata": {},
   "outputs": [],
   "source": [
    "# Создайте экземпляр вашего класса и задайте функцию потерь и оптимищатор, который показал себя лучше всего на Keras. \n",
    "# Выберете количество эпох обучения.\n",
    "\n",
    "net = My_Net()\n",
    "\n",
    "loss = binary_cross_entropy\n",
    "optimizer = torch.optim.Adam(net.parameters())\n",
    "epochs = 50"
   ]
  },
  {
   "cell_type": "code",
   "execution_count": 22,
   "metadata": {},
   "outputs": [
    {
     "name": "stderr",
     "output_type": "stream",
     "text": [
      "c:\\users\\lin\\appdata\\local\\programs\\python\\python37\\lib\\site-packages\\ipykernel_launcher.py:14: UserWarning: Using a target size (torch.Size([6700])) that is different to the input size (torch.Size([6700, 1])) is deprecated. Please ensure they have the same size.\n",
      "  \n",
      "c:\\users\\lin\\appdata\\local\\programs\\python\\python37\\lib\\site-packages\\ipykernel_launcher.py:22: UserWarning: Using a target size (torch.Size([3300])) that is different to the input size (torch.Size([3300, 1])) is deprecated. Please ensure they have the same size.\n"
     ]
    },
    {
     "name": "stdout",
     "output_type": "stream",
     "text": [
      "Wall time: 2.3 s\n"
     ]
    }
   ],
   "source": [
    "%%time\n",
    "\n",
    "# Обучите вашу сеть, сохраняя значения точности и функции потерь на тесовом и тренировочном наборе данных. \n",
    "# Замерьте время обчения.\n",
    "\n",
    "loss_train = []\n",
    "accuracy_train = []\n",
    "loss_test = []\n",
    "accuracy_test = []\n",
    "\n",
    "for epoch in range(epochs):\n",
    "    optimizer.zero_grad()\n",
    "\n",
    "    preds_train = net.forward(torch.FloatTensor(x_train)) \n",
    "    loss_value_train = loss(preds_train, torch.FloatTensor(y_train))\n",
    "    loss_train.append(float(loss_value_train))\n",
    "    accuracy_train.append(accuracy_score(y_train, np.array(preds_train > 0.5).astype(\"float\").T[0]))\n",
    "    \n",
    "    loss_value_train.backward()\n",
    "    \n",
    "    \n",
    "    preds_test = net.forward(torch.FloatTensor(x_test)) \n",
    "    loss_value_test = loss(preds_test, torch.FloatTensor(y_test))\n",
    "    loss_test.append(float(loss_value_test))\n",
    "    accuracy_test.append(accuracy_score(y_test, np.array(preds_test > 0.5).astype(\"float\").T[0]))\n",
    "    \n",
    "    \n",
    "    optimizer.step()"
   ]
  },
  {
   "cell_type": "code",
   "execution_count": 23,
   "metadata": {},
   "outputs": [
    {
     "data": {
      "text/plain": [
       "<matplotlib.legend.Legend at 0x11be4faafd0>"
      ]
     },
     "execution_count": 23,
     "metadata": {},
     "output_type": "execute_result"
    },
    {
     "data": {
      "image/png": "[encoded data removed]",
      "text/plain": [
       "<Figure size 432x288 with 1 Axes>"
      ]
     },
     "metadata": {
      "needs_background": "light"
     },
     "output_type": "display_data"
    }
   ],
   "source": [
    "# Отрисуйте графики функиции потерь на тестовом наборе и на тренировочном\n",
    "\n",
    "plt.plot(loss_train, label = \"Loss_train\")\n",
    "plt.plot(loss_test, label = \"Loss_test\")\n",
    "plt.xlabel(\"Epochs\")\n",
    "plt.ylabel(\"Loss\")\n",
    "plt.legend()"
   ]
  },
  {
   "cell_type": "code",
   "execution_count": 24,
   "metadata": {},
   "outputs": [
    {
     "data": {
      "text/plain": [
       "<matplotlib.legend.Legend at 0x11be4fc7978>"
      ]
     },
     "execution_count": 24,
     "metadata": {},
     "output_type": "execute_result"
    },
    {
     "data": {
      "image/png": "[encoded data removed]",
      "text/plain": [
       "<Figure size 432x288 with 1 Axes>"
      ]
     },
     "metadata": {
      "needs_background": "light"
     },
     "output_type": "display_data"
    }
   ],
   "source": [
    "# Отрисуйте графики точности на тестовом наборе и на тренировочном\n",
    "\n",
    "plt.plot(accuracy_train, label = \"Accuracy_train\")\n",
    "plt.plot(accuracy_test, label = \"Accuracy_test\")\n",
    "plt.xlabel(\"Epochs\")\n",
    "plt.ylabel(\"Accuracy\")\n",
    "plt.legend()"
   ]
  },
  {
   "cell_type": "markdown",
   "metadata": {},
   "source": [
    "## Готовые ноутбуки сохраняйте строго в формате .ipynb, \n",
    "**название файла должно иметь вид: Surname_Name_HWnumber.ipynb . Например: Dochkina_Victoria_02.ipynb\n",
    "\n",
    "## Отправляйте ваши ноутбуки в гугл форму: \n",
    "https://drive.google.com/open?id=1X78ZgpJNCW9ht2WBVYzvqwnVEEf1y9WLH1ETPaBnsWg\n",
    "\n",
    "\n",
    "# Спасибо за терпение и выполнение заданий!"
   ]
  },
  {
   "cell_type": "markdown",
   "metadata": {},
   "source": [
    "Здесь вы можете поделиться мыслями об этом задании:"
   ]
  },
  {
   "cell_type": "code",
   "execution_count": 1,
   "metadata": {},
   "outputs": [],
   "source": [
    "### ╰( ͡° ͜ʖ ͡° )つ──☆*:・ﾟ"
   ]
  },
  {
   "cell_type": "markdown",
   "metadata": {},
   "source": [
    "А здесь посоветовать преподавателям годный фильм или сериал:"
   ]
  },
  {
   "cell_type": "code",
   "execution_count": null,
   "metadata": {},
   "outputs": [],
   "source": [
    "### ╰( ͡° ͜ʖ ͡° )つ──☆*:・ﾟ"
   ]
  }
 ],
 "metadata": {
  "kernelspec": {
   "display_name": "Python 3",
   "language": "python",
   "name": "python3"
  },
  "language_info": {
   "codemirror_mode": {
    "name": "ipython",
    "version": 3
   },
   "file_extension": ".py",
   "mimetype": "text/x-python",
   "name": "python",
   "nbconvert_exporter": "python",
   "pygments_lexer": "ipython3",
   "version": "3.7.2"
  }
 },
 "nbformat": 4,
 "nbformat_minor": 2
}
